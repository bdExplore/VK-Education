{
 "cells": [
  {
   "cell_type": "markdown",
   "id": "3456309a",
   "metadata": {},
   "source": [
    "# Вопросы по лекции для закрепления материала\n",
    "\n",
    "* В чем состоит задача языкового моделирования?\n",
    "* Как можно использовать n-граммы для языкового моделирования?\n",
    "* Какие виды токенизации вы знаете?\n",
    "* Какие стратегии генерации текстов вы помните?\n",
    "\n",
    "# Установка PyTorch"
   ]
  },
  {
   "cell_type": "code",
   "execution_count": null,
   "id": "45ab16af",
   "metadata": {},
   "outputs": [],
   "source": [
    "# ! pip install torch torchvision torchaudio"
   ]
  },
  {
   "cell_type": "markdown",
   "id": "7e521abb",
   "metadata": {},
   "source": [
    "См. [здесь](https://pytorch.org/get-started/locally/), как установить PyTorch с поддержкой GPU для различных операционных систем."
   ]
  },
  {
   "cell_type": "markdown",
   "id": "a3675cff",
   "metadata": {},
   "source": [
    "### Проверяем, что все работает"
   ]
  },
  {
   "cell_type": "code",
   "execution_count": null,
   "id": "43e9d1ff",
   "metadata": {},
   "outputs": [],
   "source": [
    "import torch"
   ]
  },
  {
   "cell_type": "code",
   "execution_count": null,
   "id": "2bc05abf",
   "metadata": {},
   "outputs": [],
   "source": [
    "print(torch.tensor([1, 2, 3]))"
   ]
  },
  {
   "cell_type": "markdown",
   "id": "2038fe5e",
   "metadata": {},
   "source": [
    "# Работа с основными объектами PyTorch\n",
    "\n",
    "Познакомимся с основными объектами в PyTorch: тензоры, оптимизаторы, модули для создания нейросетей, классы для работы с данными.\n",
    "\n",
    "## Тензоры\n",
    "\n",
    "По сути, тензоры - это многомерными массивами. Как вы увидите ниже, работа с тезорами в PyTorch очень похожа на работу с numpy-массивами."
   ]
  },
  {
   "cell_type": "code",
   "execution_count": null,
   "id": "b270d6d4",
   "metadata": {},
   "outputs": [],
   "source": [
    "import torch"
   ]
  },
  {
   "cell_type": "markdown",
   "id": "818ac5f3",
   "metadata": {},
   "source": [
    "### Создание тензоров\n",
    "\n",
    "Создать вектор из данных:"
   ]
  },
  {
   "cell_type": "code",
   "execution_count": null,
   "id": "b97fbdaa",
   "metadata": {},
   "outputs": [],
   "source": [
    "print(torch.tensor([1, 2, 3, 4.5]))"
   ]
  },
  {
   "cell_type": "markdown",
   "id": "edf43dc8",
   "metadata": {},
   "source": [
    "Создать матрицу из данных:"
   ]
  },
  {
   "cell_type": "code",
   "execution_count": null,
   "id": "22cf4be5",
   "metadata": {},
   "outputs": [],
   "source": [
    "print(torch.tensor([[1, 2, 3], [4, 5, 6]]))"
   ]
  },
  {
   "cell_type": "markdown",
   "id": "4ba33c55",
   "metadata": {},
   "source": [
    "Создать случайную матрицу:"
   ]
  },
  {
   "cell_type": "code",
   "execution_count": null,
   "id": "368b2e1d",
   "metadata": {},
   "outputs": [],
   "source": [
    "print(torch.rand(5, 6))"
   ]
  },
  {
   "cell_type": "markdown",
   "id": "c72022ab",
   "metadata": {},
   "source": [
    "Создать тензор чисел от 0 до 9 включительно:"
   ]
  },
  {
   "cell_type": "code",
   "execution_count": null,
   "id": "a8b9d3c0",
   "metadata": {
    "scrolled": true
   },
   "outputs": [],
   "source": [
    "print(torch.arange(10))"
   ]
  },
  {
   "cell_type": "markdown",
   "id": "f76e0569",
   "metadata": {},
   "source": [
    "### Атрибуты тензоров"
   ]
  },
  {
   "cell_type": "code",
   "execution_count": null,
   "id": "53294328",
   "metadata": {},
   "outputs": [],
   "source": [
    "a = torch.tensor([[1, 2, 3],\n",
    "                  [4, 5, 6]])\n",
    "print(a)"
   ]
  },
  {
   "cell_type": "markdown",
   "id": "dc0874a1",
   "metadata": {},
   "source": [
    "Размерность:"
   ]
  },
  {
   "cell_type": "code",
   "execution_count": null,
   "id": "f6405e51",
   "metadata": {},
   "outputs": [],
   "source": [
    "print(a.shape)"
   ]
  },
  {
   "cell_type": "markdown",
   "id": "e1a67e76",
   "metadata": {},
   "source": [
    "Тип данных:"
   ]
  },
  {
   "cell_type": "code",
   "execution_count": null,
   "id": "ba67b957",
   "metadata": {},
   "outputs": [],
   "source": [
    "print(a.dtype)"
   ]
  },
  {
   "cell_type": "markdown",
   "id": "e55af10f",
   "metadata": {},
   "source": [
    "Устройство, на котором расположен тензор:"
   ]
  },
  {
   "cell_type": "code",
   "execution_count": null,
   "id": "810ff7f3",
   "metadata": {},
   "outputs": [],
   "source": [
    "print(a.device)"
   ]
  },
  {
   "cell_type": "markdown",
   "id": "8fa26a05",
   "metadata": {},
   "source": [
    "### Преобразования тензоров"
   ]
  },
  {
   "cell_type": "code",
   "execution_count": null,
   "id": "e1a088e6",
   "metadata": {},
   "outputs": [],
   "source": [
    "A = torch.rand(2, 6)\n",
    "print(A)"
   ]
  },
  {
   "cell_type": "markdown",
   "id": "2aef0e20",
   "metadata": {},
   "source": [
    "Изменить размерность тензора:"
   ]
  },
  {
   "cell_type": "code",
   "execution_count": null,
   "id": "db3e4a97",
   "metadata": {},
   "outputs": [],
   "source": [
    "print(A.reshape(3, 4))"
   ]
  },
  {
   "cell_type": "markdown",
   "id": "cd6a79e1",
   "metadata": {},
   "source": [
    "Превратить тензор в одномерный массив:"
   ]
  },
  {
   "cell_type": "code",
   "execution_count": null,
   "id": "1a89ad3d",
   "metadata": {},
   "outputs": [],
   "source": [
    "print(A.flatten())"
   ]
  },
  {
   "cell_type": "markdown",
   "id": "322cdbf8",
   "metadata": {},
   "source": [
    "Транспонировать матрицу:"
   ]
  },
  {
   "cell_type": "code",
   "execution_count": null,
   "id": "a7a772fe",
   "metadata": {},
   "outputs": [],
   "source": [
    "print(A.T)"
   ]
  },
  {
   "cell_type": "markdown",
   "id": "f815cae3",
   "metadata": {},
   "source": [
    "Для тензоров более высокой размерности нужно указать, какие измерения переставить."
   ]
  },
  {
   "cell_type": "code",
   "execution_count": null,
   "id": "d80e215b",
   "metadata": {},
   "outputs": [],
   "source": [
    "print(A.transpose(0, 1))"
   ]
  },
  {
   "cell_type": "markdown",
   "id": "b3a10b46",
   "metadata": {},
   "source": [
    "### Операции с тензорами одинаковой размерности"
   ]
  },
  {
   "cell_type": "code",
   "execution_count": null,
   "id": "be7296f0",
   "metadata": {},
   "outputs": [],
   "source": [
    "a = torch.tensor([1, 2, 3])\n",
    "b = torch.tensor([-1, 0, 1])\n",
    "A = torch.tensor([[ 0, 1, 2], \n",
    "                  [-1, 0, 1]])\n",
    "B = torch.tensor([[1, 2, 3],\n",
    "                  [7, 0, 5]])\n",
    "print(a)\n",
    "print(b)\n",
    "print(A)\n",
    "print(B)"
   ]
  },
  {
   "cell_type": "markdown",
   "id": "97123f2b",
   "metadata": {},
   "source": [
    "Покомпонентное сложение:"
   ]
  },
  {
   "cell_type": "code",
   "execution_count": null,
   "id": "b5c13c50",
   "metadata": {},
   "outputs": [],
   "source": [
    "print(a + b)\n",
    "print(A + B)"
   ]
  },
  {
   "cell_type": "markdown",
   "id": "5e688d70",
   "metadata": {},
   "source": [
    "Покомпонентное умножение:"
   ]
  },
  {
   "cell_type": "code",
   "execution_count": null,
   "id": "7ae954bb",
   "metadata": {},
   "outputs": [],
   "source": [
    "print(a * b)\n",
    "print(A * B)"
   ]
  },
  {
   "cell_type": "markdown",
   "id": "4abaf735",
   "metadata": {},
   "source": [
    "Покомпонентное возведение в степень:"
   ]
  },
  {
   "cell_type": "code",
   "execution_count": null,
   "id": "cbcdfea2",
   "metadata": {},
   "outputs": [],
   "source": [
    "print(a**b)\n",
    "print(A * B)"
   ]
  },
  {
   "cell_type": "markdown",
   "id": "2a93d522",
   "metadata": {},
   "source": [
    "Скалярное произведение:"
   ]
  },
  {
   "cell_type": "code",
   "execution_count": null,
   "id": "6123c855",
   "metadata": {},
   "outputs": [],
   "source": [
    "print(a @ b)"
   ]
  },
  {
   "cell_type": "markdown",
   "id": "5feb873c",
   "metadata": {},
   "source": [
    "Умножение матрицы на вектор:"
   ]
  },
  {
   "cell_type": "code",
   "execution_count": null,
   "id": "439af96f",
   "metadata": {},
   "outputs": [],
   "source": [
    "print(A @ a)"
   ]
  },
  {
   "cell_type": "markdown",
   "id": "8bb2a1cb",
   "metadata": {},
   "source": [
    "### Операции с тензорами разной размерности"
   ]
  },
  {
   "cell_type": "code",
   "execution_count": null,
   "id": "88d05930",
   "metadata": {},
   "outputs": [],
   "source": [
    "A = torch.tensor([[1, 2, 3],\n",
    "                  [4, 5, 6]])\n",
    "v_row = torch.tensor([0, 1, 2])\n",
    "v_col = torch.tensor([[0], [1]])\n",
    "print(A)\n",
    "print(v_row)\n",
    "print(v_col)"
   ]
  },
  {
   "cell_type": "markdown",
   "id": "db359785",
   "metadata": {},
   "source": [
    "Прибавить к каждой строке матрицы один и тот же вектор:"
   ]
  },
  {
   "cell_type": "code",
   "execution_count": null,
   "id": "770050fd",
   "metadata": {},
   "outputs": [],
   "source": [
    "print(A + v_row)"
   ]
  },
  {
   "cell_type": "markdown",
   "id": "2f127ba5",
   "metadata": {},
   "source": [
    "Прибавить к каждому столбцу матрицы один и тот же вектор:"
   ]
  },
  {
   "cell_type": "code",
   "execution_count": null,
   "id": "6eaf3f3d",
   "metadata": {},
   "outputs": [],
   "source": [
    "print(A + v_col)"
   ]
  },
  {
   "cell_type": "markdown",
   "id": "e34f4c6d",
   "metadata": {},
   "source": [
    "Это частные случаи [broadcasting](https://numpy.org/doc/stable/user/basics.broadcasting.html)"
   ]
  },
  {
   "cell_type": "markdown",
   "id": "22cb78cf",
   "metadata": {},
   "source": [
    "### Автоматическое дифференцирование\n",
    "\n",
    "![image](img/forward_backward.svg)"
   ]
  },
  {
   "cell_type": "code",
   "execution_count": null,
   "id": "173bfe22",
   "metadata": {},
   "outputs": [],
   "source": [
    "x = torch.tensor([-1.0, 3.0, -3.0], requires_grad=True)\n",
    "c = torch.tensor([0.0, 1.0, 2.0], requires_grad=False)\n",
    "L = torch.sum((x - c)**2)\n",
    "print(x)\n",
    "print(c)\n",
    "print(L)"
   ]
  },
  {
   "cell_type": "markdown",
   "id": "48f176c0",
   "metadata": {},
   "source": [
    "Считаем градиент переменной `L` по параметрам `x`:"
   ]
  },
  {
   "cell_type": "code",
   "execution_count": null,
   "id": "9c6aba70",
   "metadata": {},
   "outputs": [],
   "source": [
    "L.backward()"
   ]
  },
  {
   "cell_type": "markdown",
   "id": "9306bff8",
   "metadata": {},
   "source": [
    "Градиент по `x`:"
   ]
  },
  {
   "cell_type": "code",
   "execution_count": null,
   "id": "98486a6b",
   "metadata": {},
   "outputs": [],
   "source": [
    "print(x.grad)"
   ]
  },
  {
   "cell_type": "markdown",
   "id": "a7281fe8",
   "metadata": {},
   "source": [
    "Минимизируем `L` методом [градиентного спуска](https://en.wikipedia.org/wiki/Gradient_descent):"
   ]
  },
  {
   "cell_type": "code",
   "execution_count": null,
   "id": "256b7f29",
   "metadata": {},
   "outputs": [],
   "source": [
    "optimizer = torch.optim.SGD(params=[x], lr=0.1)\n",
    "\n",
    "for _ in range(100):\n",
    "    optimizer.zero_grad()\n",
    "    L = torch.sum((x - c)**2)\n",
    "    L.backward()\n",
    "    optimizer.step()\n",
    "    \n",
    "L = torch.sum((x - c)**2)\n",
    "    \n",
    "print(L, x)"
   ]
  },
  {
   "cell_type": "markdown",
   "id": "3465e345",
   "metadata": {},
   "source": [
    "### Упражнение\n",
    "\n",
    "Найти градиент функции\n",
    "\n",
    "$$\n",
    "f(x) = (Ax - b)^2\n",
    "$$\n",
    "\n",
    "в точке $x_0 = (1, -1, 0)$, где\n",
    "\n",
    "$$\n",
    "A = \\begin{pmatrix}\n",
    "0 & 3 & -1\\\\\n",
    "-2 & 2 & 6\n",
    "\\end{pmatrix},\n",
    "$$\n",
    "\n",
    "$$\n",
    "b = \\begin{pmatrix}\n",
    "-1 \\\\\n",
    "2\n",
    "\\end{pmatrix}.\n",
    "$$\n",
    "\n",
    "Минимизируйте $f$ методом градиентного спуска, укажите полученное значение $x$ и соответствующее значение $f(x)$."
   ]
  },
  {
   "cell_type": "code",
   "execution_count": null,
   "id": "12f31a40",
   "metadata": {},
   "outputs": [],
   "source": [
    "x = torch.tensor([1.0, -1.0, 0.0], requires_grad=True)\n",
    "\n",
    "A = torch.tensor([[0.0, 3.0, -1.0], \n",
    "                  [-2.0, 2.0, 6.0]])\n",
    "b = torch.tensor([[-1.0], \n",
    "                  [2.0]])\n",
    "\n",
    "L = torch.sum((A*x - b)**2)\n",
    "\n",
    "\n",
    "optimizer = torch.optim.SGD(params=[x], lr=0.01)\n",
    "\n",
    "for _ in range(100):\n",
    "    optimizer.zero_grad()\n",
    "    L = torch.sum((A*x - b)**2)\n",
    "    L.backward()\n",
    "    optimizer.step()\n",
    "    \n",
    "L = torch.sum((A*x - b)**2)\n",
    "    \n",
    "print(L, x)"
   ]
  },
  {
   "cell_type": "markdown",
   "id": "800c95a9",
   "metadata": {},
   "source": [
    "# Работа с torch.nn\n",
    "\n",
    "В `torch.nn` содержатся компоненты для создания нейросетей (слои, функции потерь, ...)."
   ]
  },
  {
   "cell_type": "code",
   "execution_count": null,
   "id": "52a3b629",
   "metadata": {},
   "outputs": [],
   "source": [
    "import torch.nn as nn"
   ]
  },
  {
   "cell_type": "markdown",
   "id": "6b62a076",
   "metadata": {},
   "source": [
    "Линейный слой:"
   ]
  },
  {
   "cell_type": "code",
   "execution_count": null,
   "id": "354bd4fb",
   "metadata": {},
   "outputs": [],
   "source": [
    "layer = nn.Linear(5, 3)\n",
    "print(layer(torch.randn(2, 5)))"
   ]
  },
  {
   "cell_type": "markdown",
   "id": "f54c02cc",
   "metadata": {},
   "source": [
    "Функция активации `ReLU`:"
   ]
  },
  {
   "cell_type": "code",
   "execution_count": null,
   "id": "4e670b12",
   "metadata": {},
   "outputs": [],
   "source": [
    "layer = nn.ReLU()\n",
    "print(layer(torch.tensor([[-1.0, 1.0, 2.0, 3.0, -5.0]])))"
   ]
  },
  {
   "cell_type": "markdown",
   "id": "41cb32a0",
   "metadata": {},
   "source": [
    "Слой `Dropout`:"
   ]
  },
  {
   "cell_type": "code",
   "execution_count": null,
   "id": "8f9a3439",
   "metadata": {},
   "outputs": [],
   "source": [
    "layer = nn.Dropout(0.5)\n",
    "print(layer(torch.tensor([[10, 11, 12, 13, 14, 15, 16, 17, 18, 19, 20]], dtype=torch.float)))"
   ]
  },
  {
   "cell_type": "markdown",
   "id": "6f50c93b",
   "metadata": {},
   "source": [
    "Объединяем всё в один пайплайн:"
   ]
  },
  {
   "cell_type": "code",
   "execution_count": null,
   "id": "ba774f61",
   "metadata": {},
   "outputs": [],
   "source": [
    "layer = nn.Sequential(\n",
    "    nn.Linear(5, 3),\n",
    "    nn.ReLU(),\n",
    "    nn.Dropout(0.5)\n",
    ")\n",
    "print(layer(torch.randn((2, 5))))"
   ]
  },
  {
   "cell_type": "markdown",
   "id": "a9cc0110",
   "metadata": {},
   "source": [
    "Реализовать свой модуль можно следующим образом:\n",
    "1) Создать производный от `nn.Module` класс.\n",
    "2) В методе `__init__` вызвать этот же метод базового класса и определить необходимые элементы.\n",
    "3) Определить метод `forward` (вычисление итогового результата).\n",
    "\n",
    "Для примера создадим простую нейросеть, решающую задачу регрессии."
   ]
  },
  {
   "cell_type": "code",
   "execution_count": null,
   "id": "fb9e147e",
   "metadata": {},
   "outputs": [],
   "source": [
    "class RegressionModel(nn.Module):\n",
    "    def __init__(self, n_inputs):\n",
    "        super().__init__()\n",
    "        self.model = nn.Sequential(\n",
    "            nn.Linear(n_inputs, 128),\n",
    "            nn.ReLU(),\n",
    "            nn.Dropout(0.5),\n",
    "            nn.Linear(128, 64),\n",
    "            nn.ReLU(),\n",
    "            nn.Dropout(0.5),\n",
    "            nn.Linear(64, 1)\n",
    "        )\n",
    "        \n",
    "    def forward(self, x):\n",
    "        return self.model(x)"
   ]
  },
  {
   "cell_type": "markdown",
   "id": "5f5bd5b0",
   "metadata": {},
   "source": [
    "Создаем нейросеть со случайно инициализированными весами:"
   ]
  },
  {
   "cell_type": "code",
   "execution_count": null,
   "id": "1a7c4080",
   "metadata": {},
   "outputs": [],
   "source": [
    "model = RegressionModel(n_inputs=3)\n",
    "print(model)"
   ]
  },
  {
   "cell_type": "markdown",
   "id": "761daf51",
   "metadata": {},
   "source": [
    "Применяем нейросеть к случайным входам:"
   ]
  },
  {
   "cell_type": "code",
   "execution_count": null,
   "id": "ed9afc38",
   "metadata": {},
   "outputs": [],
   "source": [
    "inputs = torch.randn((16, 3))\n",
    "outputs = model(inputs)\n",
    "print(inputs)\n",
    "print(outputs)"
   ]
  },
  {
   "cell_type": "markdown",
   "id": "78537bae",
   "metadata": {},
   "source": [
    "### Упражнение\n",
    "\n",
    "Реализовать нейросеть, которая решает многоклассовую задачу классификации."
   ]
  },
  {
   "cell_type": "code",
   "execution_count": null,
   "id": "b73ef4fd",
   "metadata": {},
   "outputs": [],
   "source": [
    "class ClassificationModel(nn.Module):\n",
    "    def __init__(self, n_inputs, n_outputs):\n",
    "        super().__init__()\n",
    "        self.model = nn.Sequential(\n",
    "            nn.Linear(n_inputs, 128),\n",
    "            nn.ReLU(),\n",
    "            nn.Dropout(0.5),\n",
    "            nn.Linear(128, 64),\n",
    "            nn.ReLU(),\n",
    "            nn.Dropout(0.5),\n",
    "            nn.Linear(64, n_outputs)\n",
    "        )\n",
    "        \n",
    "\n",
    "    def forward(self, x):\n",
    "        return self.model(x)"
   ]
  },
  {
   "cell_type": "code",
   "execution_count": null,
   "id": "b4abd5a4",
   "metadata": {},
   "outputs": [],
   "source": [
    "model = ClassificationModel(n_inputs=3, n_outputs=5)\n",
    "print(model)"
   ]
  },
  {
   "cell_type": "code",
   "execution_count": null,
   "id": "206e9def",
   "metadata": {},
   "outputs": [],
   "source": [
    "inputs = torch.randn((16, 3))\n",
    "outputs = model(inputs)\n",
    "print(inputs)\n",
    "print(outputs)"
   ]
  },
  {
   "cell_type": "markdown",
   "id": "4632edc5",
   "metadata": {},
   "source": [
    "# Работа с данными"
   ]
  },
  {
   "cell_type": "code",
   "execution_count": null,
   "id": "97c359c6",
   "metadata": {},
   "outputs": [],
   "source": [
    "import pandas as pd\n",
    "import numpy as np"
   ]
  },
  {
   "cell_type": "markdown",
   "id": "130a5928",
   "metadata": {},
   "source": [
    "Загрузим классический датасет [\"Ирисы Фишера\"](https://en.wikipedia.org/wiki/Iris_flower_data_set)"
   ]
  },
  {
   "cell_type": "code",
   "execution_count": null,
   "id": "81d0cbe1",
   "metadata": {
    "scrolled": true
   },
   "outputs": [],
   "source": [
    "df = pd.read_csv('Iris.csv').sample(frac=1, random_state=42, ignore_index=True)\n",
    "df.head()"
   ]
  },
  {
   "cell_type": "markdown",
   "id": "2cd81c40",
   "metadata": {},
   "source": [
    "Размеры датасета:"
   ]
  },
  {
   "cell_type": "code",
   "execution_count": null,
   "id": "4b2fd6c1",
   "metadata": {
    "scrolled": true
   },
   "outputs": [],
   "source": [
    "print(df.shape)"
   ]
  },
  {
   "cell_type": "markdown",
   "id": "b11de8e0",
   "metadata": {},
   "source": [
    "Распределение классов:"
   ]
  },
  {
   "cell_type": "code",
   "execution_count": null,
   "id": "b278aa84",
   "metadata": {},
   "outputs": [],
   "source": [
    "df['Species'].value_counts()"
   ]
  },
  {
   "cell_type": "markdown",
   "id": "5b026df9",
   "metadata": {},
   "source": [
    "Получим матрицу признаков `X` и вектор ответов `y`. При обучении мы можем оперировать только с числами, поэтому закодируем каждый класс числом (0, 1, 2)."
   ]
  },
  {
   "cell_type": "code",
   "execution_count": null,
   "id": "d29a075c",
   "metadata": {},
   "outputs": [],
   "source": [
    "def preprocess(df):\n",
    "    X = df[['SepalLengthCm', 'SepalWidthCm', 'PetalLengthCm', 'PetalWidthCm']].values.astype(np.float32)\n",
    "    y = df['Species'].map({'Iris-setosa': 0, 'Iris-versicolor': 1, 'Iris-virginica': 2}).values\n",
    "    return X, y"
   ]
  },
  {
   "cell_type": "code",
   "execution_count": null,
   "id": "e526dec1",
   "metadata": {},
   "outputs": [],
   "source": [
    "X, y = preprocess(df)\n",
    "X_train, y_train = X[:50], y[:50]\n",
    "X_valid, y_valid = X[50:100], y[50:100]\n",
    "X_test, y_test = X[100:150], y[100:150]"
   ]
  },
  {
   "cell_type": "code",
   "execution_count": null,
   "id": "44018b9e",
   "metadata": {},
   "outputs": [],
   "source": [
    "print(X[0], y[0])"
   ]
  },
  {
   "cell_type": "markdown",
   "id": "f475f951",
   "metadata": {},
   "source": [
    "Для того, чтобы удобно обучать нейросети с помощью PyTorch, в нем реализованы два класса работы с данными: `Dataset`, `DataLoader`."
   ]
  },
  {
   "cell_type": "code",
   "execution_count": null,
   "id": "270b1650",
   "metadata": {},
   "outputs": [],
   "source": [
    "from torch.utils.data import Dataset, DataLoader"
   ]
  },
  {
   "cell_type": "markdown",
   "id": "2a9094fb",
   "metadata": {},
   "source": [
    "### Упражнение\n",
    "\n",
    "1) Создайте класс `MyDataset` -- потомок класс Dataset. \n",
    "2) Реализуйте метод `__getitem__`, который принимает индекс элемента и возвращает пару (x, y)\n",
    "3) Реализуйте медов `__len__`, который возвращает размер датасета"
   ]
  },
  {
   "cell_type": "code",
   "execution_count": null,
   "id": "41680ef6",
   "metadata": {},
   "outputs": [],
   "source": [
    "class MyDataset(Dataset):\n",
    "    def __init__(self, X, y):\n",
    "        self.X = X\n",
    "        self.y = y\n",
    "        \n",
    "    def __getitem__(self, idx):\n",
    "        return self.X[idx], self.y[idx]\n",
    "    \n",
    "    def __len__(self):\n",
    "        return len(self.X)"
   ]
  },
  {
   "cell_type": "code",
   "execution_count": null,
   "id": "ed668c15",
   "metadata": {},
   "outputs": [],
   "source": [
    "train_dataset = MyDataset(X_train, y_train)\n",
    "valid_dataset = MyDataset(X_valid, y_valid)\n",
    "test_dataset = MyDataset(X_test, y_test)"
   ]
  },
  {
   "cell_type": "markdown",
   "id": "d7b46432",
   "metadata": {},
   "source": [
    "Посмотрим, что можно делать с датасетами. Мы можем получить его размер с помощью len(...). Для этого мы реализовали метод `__len__`:"
   ]
  },
  {
   "cell_type": "code",
   "execution_count": null,
   "id": "dfded3b2",
   "metadata": {},
   "outputs": [],
   "source": [
    "print(len(train_dataset))"
   ]
  },
  {
   "cell_type": "markdown",
   "id": "d99ecd87",
   "metadata": {},
   "source": [
    "Мы также можем обращаться к массиву, используя различные виды индексирования:"
   ]
  },
  {
   "cell_type": "code",
   "execution_count": null,
   "id": "6a8104e2",
   "metadata": {},
   "outputs": [],
   "source": [
    "x, y = train_dataset[0]\n",
    "print(x, y)"
   ]
  },
  {
   "cell_type": "code",
   "execution_count": null,
   "id": "845d4699",
   "metadata": {},
   "outputs": [],
   "source": [
    "X_batch, y_batch = train_dataset[:5]\n",
    "print(X_batch)\n",
    "print(y_batch)"
   ]
  },
  {
   "cell_type": "code",
   "execution_count": null,
   "id": "0696b3a4",
   "metadata": {},
   "outputs": [],
   "source": [
    "X_batch, y_batch = train_dataset[[0, 2, 5]]\n",
    "print(X_batch)\n",
    "print(y_batch)"
   ]
  },
  {
   "cell_type": "markdown",
   "id": "267bf709",
   "metadata": {},
   "source": [
    "Класс `DataLoader` нужен для автоматического формирования батчей для заданного датасета. "
   ]
  },
  {
   "cell_type": "code",
   "execution_count": null,
   "id": "3d058945",
   "metadata": {},
   "outputs": [],
   "source": [
    "train_loader = DataLoader(train_dataset, batch_size=8, shuffle=True, drop_last=True)\n",
    "valid_loader = DataLoader(valid_dataset, batch_size=8, shuffle=True, drop_last=True)\n",
    "test_loader = DataLoader(test_dataset, batch_size=8, shuffle=True, drop_last=True)"
   ]
  },
  {
   "cell_type": "code",
   "execution_count": null,
   "id": "a153cd8d",
   "metadata": {},
   "outputs": [],
   "source": [
    "batches = [x for x in train_loader]\n",
    "print(len(batches))\n",
    "print(batches[0])\n",
    "print(batches[1])"
   ]
  },
  {
   "cell_type": "markdown",
   "id": "9b1436ba",
   "metadata": {},
   "source": [
    "# Обучение модели"
   ]
  },
  {
   "cell_type": "code",
   "execution_count": null,
   "id": "7290becd",
   "metadata": {},
   "outputs": [],
   "source": [
    "import random\n",
    "import numpy as np\n",
    "from tqdm import tqdm"
   ]
  },
  {
   "cell_type": "markdown",
   "id": "01230b1a",
   "metadata": {},
   "source": [
    "Сделаем эксперименты воспроизводимыми"
   ]
  },
  {
   "cell_type": "code",
   "execution_count": null,
   "id": "bec2cba8",
   "metadata": {},
   "outputs": [],
   "source": [
    "torch.manual_seed(42)\n",
    "np.random.seed(42)\n",
    "random.seed(42)"
   ]
  },
  {
   "cell_type": "markdown",
   "id": "11957c82",
   "metadata": {},
   "source": [
    "Зададим параметры обучения"
   ]
  },
  {
   "cell_type": "code",
   "execution_count": null,
   "id": "8ad28d8f",
   "metadata": {},
   "outputs": [],
   "source": [
    "# Количество эпох (полных проходов по датасету)\n",
    "n_epochs = 128\n",
    "\n",
    "# Размерность входа\n",
    "n_inputs = 4\n",
    "\n",
    "# Размерность выхода (кол-во классов)\n",
    "n_outputs = 3\n",
    "\n",
    "# Скорость обучения (learning rate)\n",
    "lr = 1e-3"
   ]
  },
  {
   "cell_type": "markdown",
   "id": "515dcba5",
   "metadata": {},
   "source": [
    "Инициализируем модель, функцию потерь и оптимизатор"
   ]
  },
  {
   "cell_type": "code",
   "execution_count": null,
   "id": "247f0da4",
   "metadata": {},
   "outputs": [],
   "source": [
    "model = ClassificationModel(n_inputs=n_inputs, n_outputs=n_outputs)\n",
    "loss_func = nn.CrossEntropyLoss()\n",
    "optimizer = torch.optim.Adam(params=model.parameters(), lr=lr)"
   ]
  },
  {
   "cell_type": "markdown",
   "id": "e081324a",
   "metadata": {},
   "source": [
    "Реализуем вычисление потерь на валидационном датасете"
   ]
  },
  {
   "cell_type": "code",
   "execution_count": null,
   "id": "905a9f32",
   "metadata": {},
   "outputs": [],
   "source": [
    "def compute_validation_loss(model, loader, loss_func):\n",
    "    loss = 0\n",
    "    # Используем нейросеть в режиме применения (отключаем Dropout, ...)\n",
    "    model.eval()\n",
    "    for x, y in loader:\n",
    "        # Нам не нужно вычислять градиенты, поэтому можно сэкономить память\n",
    "        with torch.no_grad():\n",
    "            logits = model(x)\n",
    "        loss += loss_func(logits, y).item() / len(loader)\n",
    "    return loss"
   ]
  },
  {
   "cell_type": "markdown",
   "id": "0de3c69b",
   "metadata": {},
   "source": [
    "Реализуем цикл обучения нейросети (внешний цикл по эпохам, а внутренний -- по батчам). В конце каждой эпохи будем считать потери на валидационном датасете."
   ]
  },
  {
   "cell_type": "code",
   "execution_count": null,
   "id": "1f870593",
   "metadata": {
    "scrolled": false
   },
   "outputs": [],
   "source": [
    "for i in range(1, n_epochs + 1):\n",
    "    print(f'Epoch {i}')\n",
    "    for x, y in tqdm(train_loader):\n",
    "        # Переводим модель в режим обучения (включаем Dropout, ...)\n",
    "        model.train()\n",
    "        logits = model(x)\n",
    "        loss = loss_func(logits, y)\n",
    "        # Сбрасываем градиенты (.backward() только прибавляет новые градиенты к текущим)\n",
    "        optimizer.zero_grad()\n",
    "        # Вычисляем градиенты\n",
    "        loss.backward()\n",
    "        # Обновляем параметры нейросети\n",
    "        optimizer.step()\n",
    "        \n",
    "    # Считаем и выводим потери на валидационном датасете\n",
    "    eval_loss = compute_validation_loss(model, valid_loader, loss_func)\n",
    "    print(f'train_loss={loss.item()}, eval_loss={eval_loss}')"
   ]
  }
 ],
 "metadata": {
  "kernelspec": {
   "display_name": "Python 3",
   "language": "python",
   "name": "python3"
  },
  "language_info": {
   "codemirror_mode": {
    "name": "ipython",
    "version": 3
   },
   "file_extension": ".py",
   "mimetype": "text/x-python",
   "name": "python",
   "nbconvert_exporter": "python",
   "pygments_lexer": "ipython3",
   "version": "3.11.8"
  }
 },
 "nbformat": 4,
 "nbformat_minor": 5
}
