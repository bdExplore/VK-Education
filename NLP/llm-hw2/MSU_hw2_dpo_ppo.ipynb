{
  "cells": [
    {
      "cell_type": "markdown",
      "id": "a86fe262-b2b3-48cf-b8ed-c4409648a78f",
      "metadata": {
        "id": "a86fe262-b2b3-48cf-b8ed-c4409648a78f"
      },
      "source": [
        "# Домашнее задание 2: DPO и PPO"
      ]
    },
    {
      "cell_type": "markdown",
      "id": "2e70aa25-a6f3-4d56-b648-3da1b89c0c51",
      "metadata": {
        "id": "2e70aa25-a6f3-4d56-b648-3da1b89c0c51"
      },
      "source": [
        "В этой домашке поближе познакомимся с двумя крайне популярными методами алаймента языковых моделей. В первой части вам предоставится возможность самостоятельно заимплементить DPO c нуля. Во второй части мы уже будем использовать библиотеку TRL и обучим PPO.\n",
        "\n",
        "Обученные модели можно и нужно выложить на [🤗 HuggingFace](https://huggingface.co/). Зарегистрируйтесь там, подпишитесь на [deep vk](https://huggingface.co/deepvk) и создайте себе API токен.\n",
        "\n",
        "Следуйте ячейкам тетрадки и заполняйте пропущенные ячейки. В конце тетрадки вы найдете задачи со звездочкой, чтобы получить максимальный балл!"
      ]
    },
    {
      "cell_type": "markdown",
      "id": "6a223a0b-6896-49f6-a5cf-0edc0984595b",
      "metadata": {
        "id": "6a223a0b-6896-49f6-a5cf-0edc0984595b"
      },
      "source": [
        "## Импорты и вспомогательные функции"
      ]
    },
    {
      "cell_type": "code",
      "execution_count": null,
      "id": "79504930-ceac-42a3-8d43-3f2fe4e7a5d4",
      "metadata": {
        "id": "79504930-ceac-42a3-8d43-3f2fe4e7a5d4"
      },
      "outputs": [],
      "source": [
        "# Установим необходимые дополнительные библиотеки\n",
        "\n",
        "%pip install --quiet datasets trl"
      ]
    },
    {
      "cell_type": "code",
      "execution_count": 1,
      "id": "1369a8cc-b9a4-4a52-a4df-a15489ea3352",
      "metadata": {
        "editable": true,
        "id": "1369a8cc-b9a4-4a52-a4df-a15489ea3352",
        "tags": []
      },
      "outputs": [],
      "source": [
        "# Необходимые импорты (для обоих частей)\n",
        "import inspect\n",
        "import random\n",
        "from functools import partial\n",
        "\n",
        "import numpy as np\n",
        "import torch\n",
        "import torch.nn.functional as F\n",
        "import wandb\n",
        "from datasets import load_dataset\n",
        "from huggingface_hub import HfApi, interpreter_login\n",
        "from torch.utils.data import DataLoader\n",
        "from tqdm.auto import tqdm\n",
        "from transformers import (\n",
        "    AutoModelForCausalLM,\n",
        "    AutoModelForSequenceClassification,\n",
        "    AutoTokenizer,\n",
        "    PreTrainedTokenizerBase,\n",
        ")\n",
        "from trl import PPOConfig, PPOTrainer, RewardConfig, RewardTrainer"
      ]
    },
    {
      "cell_type": "code",
      "execution_count": 2,
      "id": "0a8464f5",
      "metadata": {
        "id": "0a8464f5"
      },
      "outputs": [
        {
          "name": "stdout",
          "output_type": "stream",
          "text": [
            "\n",
            "    _|    _|  _|    _|    _|_|_|    _|_|_|  _|_|_|  _|      _|    _|_|_|      _|_|_|_|    _|_|      _|_|_|  _|_|_|_|\n",
            "    _|    _|  _|    _|  _|        _|          _|    _|_|    _|  _|            _|        _|    _|  _|        _|\n",
            "    _|_|_|_|  _|    _|  _|  _|_|  _|  _|_|    _|    _|  _|  _|  _|  _|_|      _|_|_|    _|_|_|_|  _|        _|_|_|\n",
            "    _|    _|  _|    _|  _|    _|  _|    _|    _|    _|    _|_|  _|    _|      _|        _|    _|  _|        _|\n",
            "    _|    _|    _|_|      _|_|_|    _|_|_|  _|_|_|  _|      _|    _|_|_|      _|        _|    _|    _|_|_|  _|_|_|_|\n",
            "\n"
          ]
        }
      ],
      "source": [
        "interpreter_login()"
      ]
    },
    {
      "cell_type": "code",
      "execution_count": 3,
      "id": "7ce75b35",
      "metadata": {
        "id": "7ce75b35"
      },
      "outputs": [
        {
          "name": "stdout",
          "output_type": "stream",
          "text": [
            "Homework repository: 'bdvs/llm-course-hw2'\n"
          ]
        }
      ],
      "source": [
        "# Подготовим репозиторий для будущей модели и токенизатора\n",
        "username = HfApi().whoami()[\"name\"]\n",
        "REPO_NAME = f\"{username}/llm-course-hw2\"  # Или как вам хочется\n",
        "\n",
        "print(f\"Homework repository: '{REPO_NAME}'\")"
      ]
    },
    {
      "cell_type": "code",
      "execution_count": 4,
      "id": "fa23203d-233f-4a30-aa5a-8ee669275caf",
      "metadata": {
        "editable": true,
        "id": "fa23203d-233f-4a30-aa5a-8ee669275caf",
        "tags": []
      },
      "outputs": [],
      "source": [
        "def set_seed(seed=42):\n",
        "    torch.manual_seed(seed)\n",
        "    torch.cuda.manual_seed_all(seed)\n",
        "    np.random.seed(seed)\n",
        "    random.seed(seed)\n",
        "\n",
        "\n",
        "# Этой функцией будут помечены все места, которые необходимо дозаполнить\n",
        "# Это могут быть как целые функции, так и отдельные части внутри них\n",
        "# Всегда можно воспользоваться интроспекцией и найти места использования этой функции :)\n",
        "def todo():\n",
        "    stack = inspect.stack()\n",
        "    caller_frame = stack[1]\n",
        "    function_name = caller_frame.function\n",
        "    line_number = caller_frame.lineno\n",
        "    raise NotImplementedError(f\"TODO at {function_name}, line {line_number}\")\n",
        "\n",
        "\n",
        "def disable_dropout_in_model(model):\n",
        "    for module in model.modules():\n",
        "        if isinstance(module, torch.nn.Dropout):\n",
        "            module.p = 0"
      ]
    },
    {
      "cell_type": "markdown",
      "id": "e8e36c1d-6e89-4643-a0bb-1a1c916c3466",
      "metadata": {
        "editable": true,
        "id": "e8e36c1d-6e89-4643-a0bb-1a1c916c3466",
        "tags": []
      },
      "source": [
        "# Часть 1: DPO"
      ]
    },
    {
      "cell_type": "markdown",
      "id": "b2ae081e-f2f6-4790-b239-a6ec1c0db1f2",
      "metadata": {
        "id": "b2ae081e-f2f6-4790-b239-a6ec1c0db1f2"
      },
      "source": [
        "Крайне простой метод, который в свое время произвел фурор, т.к. выгодно выделялся на фоне PPO. В отличие от PPO, требующего отдельно обучать Reward Model, Value Model и больших усилий в имплементации, DPO не требует явной ревард модели, а только датасета с человеческими преференсами вида: промпт, выбранный человеком ответ, отвергнутный человеком ответ. Простота также видна из лосса, по сути это весь метод:\n",
        "$$\n",
        "L_\\text{DPO}(\\pi_{\\theta}; \\pi_\\text{ref}) = -E_{(x, y_w, y_l)\\sim D}\\left[\\log \\sigma \\left(\n",
        "\\beta \\log \\frac{\\pi_{\\theta}(y_w\\mid x)}{\\pi_\\text{ref}(y_w\\mid x)} \\thinspace\n",
        "{- \\beta \\log \\frac{\\pi_{\\theta}(y_l\\mid x)}{\\pi_\\text{ref}(y_l\\mid x)}}\\right)\\right]\n",
        "$$\n",
        "\n",
        "где:\n",
        "\n",
        "- $\\pi_{\\theta}$ LLM которую мы хотим заалайнить\n",
        "- $\\pi_\\text{ref}$ референсная модель для регуляризации, как правило просто начальный чекпоинт\n",
        "- $D$ датасет с преференсами\n",
        "- $x$ промпт из датасета $D$\n",
        "- $y_w$ ответ на промпт $x$ выбранный человеком (или тем кто размечал преференсы, это может быть и большая LLM)\n",
        "- $y_l$ ответ на промпт $x$ отвергнутый человеком (или тем кто размечал преференсы, это может быть и большая LLM)\n",
        "- $\\beta$ гиперепараметр отвечающий за то, как далеко мы можем отходить от референсной модели\n",
        "\n",
        "Во время имплементации советум внимательно прочитать оригинальную статью: [Direct Preference Optimization: Your Language Model is Secretly a Reward Model](https://arxiv.org/abs/2305.18290).\n",
        "\n",
        "Для файнтюна мы будем использовать модель [HuggingFaceTB/SmolLM-135M-Instruct](https://huggingface.co/HuggingFaceTB/SmolLM-135M-Instruct), т.к. она маленького размера (поместится на Colab), но при этом умеет достаточно, чтобы увидеть изменения от алаймента. Более того, данная модель даже прошла стадию SFT, а поэтому в отличие от базовой модели (без Instruct) понимает формат чата (chat-template в transformers, дальше разберем) и имеет 'осознание' себя языковым ассистентом.\n",
        "\n",
        "P.S. Если у вас есть доступ к вычислительным ресурсам типо A100 и больше, вы можете попробовать зафайнтюнить модель большего размера из этой же [линейки](https://huggingface.co/blog/smollm). Будьте внимательны, смотрите, чтобы она была с добавкой Instruct."
      ]
    },
    {
      "cell_type": "code",
      "execution_count": 5,
      "id": "3d88765f",
      "metadata": {
        "id": "3d88765f"
      },
      "outputs": [],
      "source": [
        "MODEL_ID = \"HuggingFaceTB/SmolLM-135M-Instruct\"\n",
        "DATASET_ID = \"HumanLLMs/Human-Like-DPO-Dataset\""
      ]
    },
    {
      "cell_type": "markdown",
      "id": "9004f808-b6bc-46fe-bc77-f7d4e381f963",
      "metadata": {
        "id": "9004f808-b6bc-46fe-bc77-f7d4e381f963"
      },
      "source": [
        "## Подготовка данных [2 балла]\n",
        "\n",
        "Для начала нужно подготовить данные. В качестве датасета преференсов мы будем использовать [HumanLLMs/Human-Like-DPO-Dataset](https://huggingface.co/datasets/HumanLLMs/Human-Like-DPO-Dataset), который значительно повышает эмоциональность модели, количество используемых эмодзи и в целом снижает строгость следования шаблону \"As a conversational AI, I ...\".\n",
        "\n",
        "Чтобы подготовить датасет нужно несколько простых этапов:\n",
        "1. Привест данные к формату chat-template\n",
        "2. После применить этот chat-template с помощью 'tokenizer.apply_chat_template'\n",
        "3. Токенизировать получившиеся данные, попутно обрезав промпт и ответы до нужной длины, если надо.\n",
        "\n",
        "Внимательно прочитайте [документацию по chat-templates](https://huggingface.co/docs/transformers/chat_templating). Для удобства данные приводят в начале в более верхне-уровневый формат такого вида:\n",
        "```python\n",
        "messages = [\n",
        "    {\"role\": \"system\", \"content\": \"You are a helpful assistant focused on technical topics.\"},\n",
        "    {\"role\": \"user\", \"content\": \"Can you explain what a chat template is?\"},\n",
        "    {\"role\": \"assistant\", \"content\": \"A chat template structures conversations between users and AI models...\"}\n",
        "]\n",
        "```\n",
        "То есть модели можно задать разные роли, такие как например системный промпт, и в целом структурировать диалог между ассистентом и человеком. Обычно обучение этому происходит на этапе SFT. Данная репрезентация абстрагирует детали (конкретные токены) как этот формат используют разные модели. Чтобы перевести его в неспоредственно текстовый инпут в формате специфичном конкретной модели используется `tokenizer.apply_chat_template`."
      ]
    },
    {
      "cell_type": "code",
      "execution_count": 6,
      "id": "553b75fe-e0b2-4c68-9c1e-9b2d58983da6",
      "metadata": {
        "id": "553b75fe-e0b2-4c68-9c1e-9b2d58983da6"
      },
      "outputs": [],
      "source": [
        "# понадобится для подготовки данных\n",
        "tokenizer = AutoTokenizer.from_pretrained(MODEL_ID)\n",
        "tokenizer.pad_token = tokenizer.eos_token"
      ]
    },
    {
      "cell_type": "code",
      "execution_count": 7,
      "id": "aa5e40e1-94a3-4ed9-8f33-1bd45fa9086d",
      "metadata": {
        "id": "aa5e40e1-94a3-4ed9-8f33-1bd45fa9086d"
      },
      "outputs": [
        {
          "data": {
            "text/plain": [
              "{'prompt': 'Oh, I just saw the best meme - have you seen it?',\n",
              " 'chosen': \"😂 Ah, no I haven't! I'm dying to know, what's the meme about? Is it a funny cat or a ridiculous situation? Spill the beans! 🤣\",\n",
              " 'rejected': \"I'm an artificial intelligence language model, I don't have personal experiences or opinions. However, I can provide you with information on highly-rated and critically acclaimed films, as well as recommendations based on specific genres or themes. Would you like me to suggest some notable movies or discuss a particular genre of interest?\"}"
            ]
          },
          "execution_count": 7,
          "metadata": {},
          "output_type": "execute_result"
        }
      ],
      "source": [
        "dataset = load_dataset(DATASET_ID, split=\"train\")\n",
        "dataset[0]"
      ]
    },
    {
      "cell_type": "markdown",
      "id": "565dcc5d-8e70-4917-97b8-ed8c7f08d964",
      "metadata": {
        "id": "565dcc5d-8e70-4917-97b8-ed8c7f08d964"
      },
      "source": [
        "Приведите датасет к формату чата, где у промпта роль user, а у ответов assistant, а потом примените чат темплейт:"
      ]
    },
    {
      "cell_type": "code",
      "execution_count": 8,
      "id": "6e06515d-abdc-4b3f-b4eb-b7b00c922bff",
      "metadata": {
        "id": "6e06515d-abdc-4b3f-b4eb-b7b00c922bff"
      },
      "outputs": [],
      "source": [
        "def apply_chat_template(example: dict[str, str], tokenizer: PreTrainedTokenizerBase) -> dict[str, str]:\n",
        "    \"\"\"\n",
        "    Transforms a dataset example into a formatted chat template using the provided tokenizer.\n",
        "\n",
        "    Args:\n",
        "        example (Dict[str, str]): A dictionary containing the following keys:\n",
        "            - \"prompt\": The initial user prompt.\n",
        "            - \"chosen\": The assistant's chosen response.\n",
        "            - \"rejected\": The assistant's rejected response.\n",
        "        tokenizer (PreTrainedTokenizerBase): An object that provides the `apply_chat_template` method\n",
        "            for formatting the conversation.\n",
        "\n",
        "    Returns:\n",
        "        Dict[str, str]: A dictionary with the following keys:\n",
        "            - \"prompt\": The formatted prompt string including the generation prompt.\n",
        "            - \"chosen\": The formatted assistant's chosen response (with the prompt prefix removed).\n",
        "            - \"rejected\": The formatted assistant's rejected response (with the prompt prefix removed).\n",
        "    \"\"\"\n",
        "    chosen_messages = [\n",
        "        {\"role\": \"user\", \"content\": example[\"prompt\"]},\n",
        "        {\"role\": \"assistant\", \"content\": example[\"chosen\"]}\n",
        "    ]\n",
        "    chosen_full = tokenizer.apply_chat_template(chosen_messages, tokenize=False)\n",
        "\n",
        "    rejected_messages = [\n",
        "        {\"role\": \"user\", \"content\": example[\"prompt\"]},\n",
        "        {\"role\": \"assistant\", \"content\": example[\"rejected\"]}\n",
        "    ]\n",
        "    rejected_full = tokenizer.apply_chat_template(rejected_messages, tokenize=False)\n",
        "\n",
        "    prompt_with_assistant = tokenizer.apply_chat_template(\n",
        "        [{\"role\": \"user\", \"content\": example[\"prompt\"]}], tokenize=False\n",
        "    ) + \"<|im_start|>assistant\\n\"\n",
        "\n",
        "    chosen_response = chosen_full[len(prompt_with_assistant):]\n",
        "    rejected_response = rejected_full[len(prompt_with_assistant):]\n",
        "\n",
        "    return {\n",
        "        \"prompt\": prompt_with_assistant,\n",
        "        \"chosen\": chosen_response,\n",
        "        \"rejected\": rejected_response\n",
        "    }"
      ]
    },
    {
      "cell_type": "code",
      "execution_count": 9,
      "id": "fcb16881-c63a-41ae-b5ed-9a37b62a98ff",
      "metadata": {
        "id": "fcb16881-c63a-41ae-b5ed-9a37b62a98ff"
      },
      "outputs": [
        {
          "data": {
            "text/plain": [
              "{'prompt': '<|im_start|>user\\nOh, I just saw the best meme - have you seen it?<|im_end|>\\n<|im_start|>assistant\\n',\n",
              " 'chosen': \"😂 Ah, no I haven't! I'm dying to know, what's the meme about? Is it a funny cat or a ridiculous situation? Spill the beans! 🤣<|im_end|>\\n\",\n",
              " 'rejected': \"I'm an artificial intelligence language model, I don't have personal experiences or opinions. However, I can provide you with information on highly-rated and critically acclaimed films, as well as recommendations based on specific genres or themes. Would you like me to suggest some notable movies or discuss a particular genre of interest?<|im_end|>\\n\"}"
            ]
          },
          "execution_count": 9,
          "metadata": {},
          "output_type": "execute_result"
        }
      ],
      "source": [
        "dataset = dataset.map(apply_chat_template, fn_kwargs={\"tokenizer\": tokenizer})\n",
        "dataset[0]"
      ]
    },
    {
      "cell_type": "markdown",
      "id": "b64dabac-883f-41db-b6d8-9fff5ae32d35",
      "metadata": {
        "id": "b64dabac-883f-41db-b6d8-9fff5ae32d35"
      },
      "source": [
        "После этих двух этапов данные должны выглядеть так (**обратите внимание на положение <|im_start|>assistant\\n**, это важно!):\n",
        "```\n",
        "{\n",
        "    'prompt': \"<|im_start|>user\\nOh, I just saw the best meme - have you seen it <|im_end|>\\n<|im_start|>assistant\\n\",\n",
        "    'chosen': \"😂 Ah, no I haven't! I'm dying to know, what's the meme about? Is it a funny cat or a ridiculous situation? Spill the beans! 🤣<|im_end|>\\n\",\n",
        "    'rejected': \"I'm an artificial intelligence language model, I don't have personal experiences or opinions. However, I can provide you with information on highly-rated and critically acclaimed films, as well as recommendations based on specific genres or themes. Would you like me to suggest some notable movies or discuss a particular genre of interest?<|im_end|>\\n\"\n",
        "}\n",
        "```"
      ]
    },
    {
      "cell_type": "markdown",
      "id": "a3a94b01",
      "metadata": {
        "id": "a3a94b01"
      },
      "source": [
        "Токенизируйте датасет с помощью токенизатора, обрезав длину если необходимо. В датасете должны остаться только ID токенов:\n",
        "```\n",
        "Dataset({\n",
        "    features: ['prompt_input_ids', 'chosen_input_ids', 'rejected_input_ids'],\n",
        "    num_rows: 10884\n",
        "})\n",
        "```"
      ]
    },
    {
      "cell_type": "markdown",
      "id": "8ad02508-e4f9-43fa-a3e6-7ecd0e2963df",
      "metadata": {
        "id": "8ad02508-e4f9-43fa-a3e6-7ecd0e2963df"
      },
      "source": [
        "Обрезайте промпт слева, а не с конца. Подумайте почему так лучше. **Напишите свой ответ**.\n",
        "\n",
        "    #========== TODO ==========\n",
        "    #     Ваш ответ здесь     =\n",
        "    #=========================="
      ]
    },
    {
      "cell_type": "code",
      "execution_count": 10,
      "id": "ab86a8b4-ba29-442b-92a9-294a9153cfe8",
      "metadata": {
        "id": "ab86a8b4-ba29-442b-92a9-294a9153cfe8"
      },
      "outputs": [],
      "source": [
        "def tokenize_row(\n",
        "    example: dict[str, str],\n",
        "    tokenizer: PreTrainedTokenizerBase,\n",
        "    max_prompt_length: int = 512,\n",
        "    max_completion_length: int | None = None,\n",
        ") -> dict[str, list[int]]:\n",
        "    \"\"\"\n",
        "    Tokenizes a single row of a dataset example for use in language model training or evaluation.\n",
        "\n",
        "    This function processes an example containing textual fields for a prompt, a chosen response,\n",
        "    and a rejected response. It tokenizes each text field using the provided tokenizer. If specified,\n",
        "    it truncates the tokenized prompt to the last `max_prompt_length` tokens and the tokenized responses\n",
        "    (chosen and rejected) to the first `max_completion_length` tokens.\n",
        "\n",
        "    Args:\n",
        "        example (dict[str, str]): A dictionary with the following keys:\n",
        "            - \"prompt\": The initial prompt text.\n",
        "            - \"chosen\": The assistant's chosen response.\n",
        "            - \"rejected\": The assistant's rejected response.\n",
        "        tokenizer (PreTrainedTokenizerBase): A tokenizer that converts text into token IDs. It must return a dictionary\n",
        "            with the key \"input_ids\" when called.\n",
        "        max_prompt_length (Optional[int], optional): Maximum number of tokens to retain for the prompt.\n",
        "            The function keeps the last `max_prompt_length` tokens. Defaults to 512.\n",
        "        max_completion_length (Optional[int], optional): Maximum number of tokens to retain for the completion\n",
        "            responses (chosen and rejected). The function keeps the first `max_completion_length` tokens.\n",
        "            If None, no truncation is applied. Defaults to None.\n",
        "\n",
        "    Returns:\n",
        "        dict[str, list[int]]: A dictionary containing:\n",
        "            - \"prompt_input_ids\": The token IDs for the prompt, possibly truncated.\n",
        "            - \"chosen_input_ids\": The token IDs for the chosen response, possibly truncated.\n",
        "            - \"rejected_input_ids\": The token IDs for the rejected response, possibly truncated.\n",
        "    \"\"\"\n",
        "    prompt_ids = tokenizer.encode(example[\"prompt\"], truncation=True, max_length=max_prompt_length)\n",
        "    chosen_ids = tokenizer.encode(example[\"chosen\"], truncation=True, max_length=max_completion_length)\n",
        "    rejected_ids = tokenizer.encode(example[\"rejected\"], truncation=True, max_length=max_completion_length)\n",
        "    \n",
        "    return {\n",
        "        \"prompt_input_ids\": prompt_ids,\n",
        "        \"chosen_input_ids\": chosen_ids,\n",
        "        \"rejected_input_ids\": rejected_ids\n",
        "    }"
      ]
    },
    {
      "cell_type": "code",
      "execution_count": 11,
      "id": "902b567f",
      "metadata": {
        "id": "902b567f"
      },
      "outputs": [
        {
          "data": {
            "text/plain": [
              "{'prompt_input_ids': [1,\n",
              "  4093,\n",
              "  198,\n",
              "  16912,\n",
              "  28,\n",
              "  339,\n",
              "  915,\n",
              "  3680,\n",
              "  260,\n",
              "  1450,\n",
              "  1169,\n",
              "  85,\n",
              "  731,\n",
              "  457,\n",
              "  346,\n",
              "  2269,\n",
              "  357,\n",
              "  47,\n",
              "  2,\n",
              "  198,\n",
              "  1,\n",
              "  520,\n",
              "  9531,\n",
              "  198],\n",
              " 'chosen_input_ids': [10813,\n",
              "  242,\n",
              "  220,\n",
              "  12947,\n",
              "  28,\n",
              "  787,\n",
              "  339,\n",
              "  8540,\n",
              "  982,\n",
              "  17,\n",
              "  339,\n",
              "  5248,\n",
              "  11888,\n",
              "  288,\n",
              "  699,\n",
              "  28,\n",
              "  732,\n",
              "  506,\n",
              "  260,\n",
              "  1169,\n",
              "  85,\n",
              "  563,\n",
              "  47,\n",
              "  1431,\n",
              "  357,\n",
              "  253,\n",
              "  17025,\n",
              "  2644,\n",
              "  355,\n",
              "  253,\n",
              "  31404,\n",
              "  3223,\n",
              "  47,\n",
              "  1691,\n",
              "  388,\n",
              "  260,\n",
              "  9973,\n",
              "  17,\n",
              "  15107,\n",
              "  114,\n",
              "  113,\n",
              "  2,\n",
              "  198],\n",
              " 'rejected_input_ids': [57,\n",
              "  5248,\n",
              "  354,\n",
              "  6416,\n",
              "  5290,\n",
              "  1789,\n",
              "  1743,\n",
              "  28,\n",
              "  339,\n",
              "  1326,\n",
              "  982,\n",
              "  457,\n",
              "  2143,\n",
              "  2647,\n",
              "  355,\n",
              "  8428,\n",
              "  30,\n",
              "  1423,\n",
              "  28,\n",
              "  339,\n",
              "  416,\n",
              "  1538,\n",
              "  346,\n",
              "  351,\n",
              "  1096,\n",
              "  335,\n",
              "  3452,\n",
              "  29,\n",
              "  3119,\n",
              "  284,\n",
              "  9603,\n",
              "  32246,\n",
              "  9411,\n",
              "  28,\n",
              "  347,\n",
              "  876,\n",
              "  347,\n",
              "  7400,\n",
              "  1552,\n",
              "  335,\n",
              "  1678,\n",
              "  14009,\n",
              "  355,\n",
              "  5535,\n",
              "  30,\n",
              "  13651,\n",
              "  346,\n",
              "  702,\n",
              "  549,\n",
              "  288,\n",
              "  1820,\n",
              "  634,\n",
              "  7703,\n",
              "  10026,\n",
              "  355,\n",
              "  1692,\n",
              "  253,\n",
              "  1542,\n",
              "  10265,\n",
              "  282,\n",
              "  1384,\n",
              "  47,\n",
              "  2,\n",
              "  198]}"
            ]
          },
          "execution_count": 11,
          "metadata": {},
          "output_type": "execute_result"
        }
      ],
      "source": [
        "dataset = dataset.map(\n",
        "    tokenize_row,\n",
        "    fn_kwargs={\n",
        "        \"tokenizer\": tokenizer,\n",
        "        \"max_prompt_length\": 256,\n",
        "        \"max_completion_length\": None,\n",
        "    },\n",
        "    remove_columns=[\"prompt\", \"chosen\", \"rejected\"],\n",
        ")\n",
        "\n",
        "dataset[0]"
      ]
    },
    {
      "cell_type": "markdown",
      "id": "4e6687c2-73a7-4ae9-972c-6603673e6401",
      "metadata": {
        "id": "4e6687c2-73a7-4ae9-972c-6603673e6401"
      },
      "source": [
        "Теперь надо подготовить DataLoader. Для этого надо написать кастомный `collate_fn` который будет делать следующее:\n",
        "1. Принимать лист примеров с ключами `prompt_input_ids`, `chosen_input_ids`, `rejected_input_ids`.\n",
        "2. Паддить до максимальной длины в батче по каждому ключу. По итогу `prompt_input_ids` и `chosen_input_ids` могут иметь разную длину, это нормально. Важно, чтобы внутри одинаковых ключей длина была консистентна.\n",
        "3. Для каждого ключа создавать паддинг маску такого же шейпа, где 0 используется для паддинг-токенов и 1 для токенов последовательности.\n",
        "\n",
        "Для паддинга дополнительно реализуйте функцию `pad`. В качестве токена используйте `tokenizer.pad_token_id` и 0 для маски. **Опять же, подумайте откуда лучше паддить `prompt_input_ids`?**"
      ]
    },
    {
      "cell_type": "code",
      "execution_count": 20,
      "id": "90431c77-694c-446b-bced-eae8124936fb",
      "metadata": {
        "id": "90431c77-694c-446b-bced-eae8124936fb"
      },
      "outputs": [],
      "source": [
        "def pad(tensors: list[torch.Tensor], padding_value: int = 0, padding_side: str = \"right\") -> torch.Tensor:\n",
        "    \"\"\"\n",
        "    Pads a list of tensors to the same size along their leading dimension.\n",
        "\n",
        "    Args:\n",
        "        tensors (list[torch.Tensor]): A list of tensors to be padded.\n",
        "            All tensors in the list should be of the same type and device.\n",
        "        padding_value (int, default=0): The value used to pad the tensors.\n",
        "        padding_side (str, default=\"right\"): Specifies which side of the tensor to apply padding: either 'left' or 'right'.\n",
        "\n",
        "    Returns:\n",
        "        torch.Tensor: A tensor containing all the padded tensors, [N; max_length]\n",
        "            where N is the number of tensors and `max_length` is the shape of the largest tensor.\n",
        "    \"\"\"\n",
        "    max_length = max(tensor.shape[0] for tensor in tensors)  # Находим максимальную длину в батче\n",
        "    if padding_side == \"left\":\n",
        "        return torch.stack([torch.cat([torch.full((max_length - len(t),), padding_value, dtype=t.dtype), t]) for t in tensors])  # Паддинг слева\n",
        "    else:\n",
        "        return torch.stack([torch.cat([t, torch.full((max_length - len(t),), padding_value, dtype=t.dtype)]) for t in tensors]) # Паддинг справа\n",
        "\n",
        "\n",
        "def pad_collate_fn(batch: list[dict[str, torch.Tensor]], pad_token_id: int) -> dict[str, torch.Tensor]:\n",
        "    \"\"\"\n",
        "    Collates and pads a batch of tokenized examples for model input.\n",
        "\n",
        "    This function takes a batch of examples where each example is a dictionary containing\n",
        "    token IDs for the prompt, the chosen response, and the rejected response. For each field,\n",
        "    it extracts the list of token IDs, creates a corresponding attention mask (with ones for each token),\n",
        "    and then pads the sequences using a `pad` function. The prompt sequences and their attention masks\n",
        "    are padded on the left, while the chosen and rejected sequences are padded on the right (default).\n",
        "\n",
        "    Args:\n",
        "        batch (list[dict[str, torch.Tensor]]): A list of dictionaries, where each dictionary has the keys:\n",
        "            - \"prompt_input_ids\": Tensor of token IDs for the prompt.\n",
        "            - \"chosen_input_ids\": Tensor of token IDs for the chosen response.\n",
        "            - \"rejected_input_ids\": Tensor of token IDs for the rejected response.\n",
        "        pad_token_id (int): Padding value for token IDs.\n",
        "\n",
        "    Returns:\n",
        "        dict[str, torch.Tensor]: A dictionary containing the following keys with padded tensors:\n",
        "            - \"prompt_input_ids\": Padded token IDs for the prompt (padded on the left).\n",
        "            - \"prompt_attn_mask\": Padded attention mask for the prompt (padded on the left, with 1s for actual tokens).\n",
        "            - \"chosen_input_ids\": Padded token IDs for the chosen response.\n",
        "            - \"chosen_attn_mask\": Padded attention mask for the chosen response.\n",
        "            - \"rejected_input_ids\": Padded token IDs for the rejected response.\n",
        "            - \"rejected_attn_mask\": Padded attention mask for the rejected response.\n",
        "    \"\"\"\n",
        "    prompt_tensors = [torch.tensor(item[\"prompt_input_ids\"]) for item in batch]\n",
        "    chosen_tensors = [torch.tensor(item[\"chosen_input_ids\"]) for item in batch]\n",
        "    rejected_tensors = [torch.tensor(item[\"rejected_input_ids\"]) for item in batch]\n",
        "    \n",
        "    return {\n",
        "        \"prompt_input_ids\": pad(prompt_tensors, pad_token_id, \"left\"),\n",
        "        \"prompt_attn_mask\": (pad(prompt_tensors, 0, \"left\") != pad_token_id).long(),\n",
        "        \"chosen_input_ids\": pad(chosen_tensors, pad_token_id, \"right\"),\n",
        "        \"chosen_attn_mask\": (pad(chosen_tensors, 0, \"right\") != pad_token_id).long(),\n",
        "        \"rejected_input_ids\": pad(rejected_tensors, pad_token_id, \"right\"),\n",
        "        \"rejected_attn_mask\": (pad(rejected_tensors, 0, \"right\") != pad_token_id).long(),\n",
        "    }\n",
        "\n",
        "\n",
        "dataloader = DataLoader(\n",
        "    dataset.with_format(\"torch\"),\n",
        "    batch_size=2,\n",
        "    shuffle=True,\n",
        "    collate_fn=lambda batch: pad_collate_fn(batch, tokenizer.pad_token_id),\n",
        ")"
      ]
    },
    {
      "cell_type": "code",
      "execution_count": 21,
      "id": "ea248bdd",
      "metadata": {},
      "outputs": [
        {
          "name": "stderr",
          "output_type": "stream",
          "text": [
            "/var/folders/lf/x86pzptd3pv7z45l56wggyjc0000gn/T/ipykernel_17985/2287850542.py:48: UserWarning: To copy construct from a tensor, it is recommended to use sourceTensor.clone().detach() or sourceTensor.clone().detach().requires_grad_(True), rather than torch.tensor(sourceTensor).\n",
            "  prompt_tensors = [torch.tensor(item[\"prompt_input_ids\"]) for item in batch]\n",
            "/var/folders/lf/x86pzptd3pv7z45l56wggyjc0000gn/T/ipykernel_17985/2287850542.py:49: UserWarning: To copy construct from a tensor, it is recommended to use sourceTensor.clone().detach() or sourceTensor.clone().detach().requires_grad_(True), rather than torch.tensor(sourceTensor).\n",
            "  chosen_tensors = [torch.tensor(item[\"chosen_input_ids\"]) for item in batch]\n",
            "/var/folders/lf/x86pzptd3pv7z45l56wggyjc0000gn/T/ipykernel_17985/2287850542.py:50: UserWarning: To copy construct from a tensor, it is recommended to use sourceTensor.clone().detach() or sourceTensor.clone().detach().requires_grad_(True), rather than torch.tensor(sourceTensor).\n",
            "  rejected_tensors = [torch.tensor(item[\"rejected_input_ids\"]) for item in batch]\n"
          ]
        },
        {
          "data": {
            "text/plain": [
              "{'prompt_input_ids': tensor([[    1,  4093,   198,  1780,   506,   469,  4932,  1502,   282,  2477,\n",
              "            284,  1701,   536,   346,  2815,   357,    47,     2,   198,     1,\n",
              "            520,  9531,   198],\n",
              "         [    2,     2,     2,     2,     2,     1,  4093,   198,  6248,   346,\n",
              "           4640,  7956, 10026,   355,  7372,  2744,    47,     2,   198,     1,\n",
              "            520,  9531,   198]]),\n",
              " 'prompt_attn_mask': tensor([[1, 1, 1, 1, 1, 1, 1, 1, 1, 1, 1, 1, 1, 1, 1, 1, 1, 0, 1, 1, 1, 1, 1],\n",
              "         [1, 1, 1, 1, 1, 1, 1, 1, 1, 1, 1, 1, 1, 1, 1, 1, 1, 0, 1, 1, 1, 1, 1]]),\n",
              " 'chosen_input_ids': tensor([[26446,   314,   253,  4776,   599,   282,   957,  1029,    17,   339,\n",
              "           6737,  1643,   957,  4932,  1502,   282,  2477,   314,   641,   519,\n",
              "           4022,    30,  1385,   506,  1488,   563,   260,  5540,    28,  4122,\n",
              "           1439,   282,   357,   338,   915, 13531,   288,   549,    30,   339,\n",
              "           2606,   638,   641,   519,  4022, 12299,  1129,  4308,   351,   896,\n",
              "           4598,   284,  6825,    28,  2733,   451,  2116,    28, 48540,   386,\n",
              "          34909,   338,   506,  1759,   288,  1042,  8888,    30,   198,   198,\n",
              "          29217,    28,   339,  1042,   338,   641,   519,  4022, 21439,  3264,\n",
              "            288,   325,  2076, 20988,    30,  1069,  1129,  5895,   335,  5535,\n",
              "            282,  2606,    28,  1911, 17653,    28,   284,   639,    29, 20003,\n",
              "             28,   527,   359,   511,  1495,   339,  1510,   392,   416,   511,\n",
              "           2669,   351,    30,   657,   506,   702,   260, 12229,   359,  5914,\n",
              "           3319,   288,   469,  8664,    17,   198,   198,  2596,    28,   346,\n",
              "            699,    28,   339,  5248,   597,   253,   393, 14406,   327,   253,\n",
              "           1123,  1139, 41826,    30,  1385,   506,  3878,   702,   978,   862,\n",
              "            578,   253, 39747, 17324,   351,  2428,   418,   260,  1466,   282,\n",
              "            469,  9351,    28,  4330,  1176,  5725,   284,  8441,    30, 40303,\n",
              "            228,   198,   198,  1780,   563,   346,    28,  1239,    47,  1812,\n",
              "           1942,   282,  2477,   536,   346,  2815,    47,  5310,   346,  3658,\n",
              "            750,   725,  4936,   355, 12299, 24382,   338,   346,  2316, 37274,\n",
              "            351,    47, 15107,   232,   130,     2,   198],\n",
              "         [ 2683,   699,    28,   339,  5248,   253,  3241,   282,   253, 27689,\n",
              "             29, 27159,  6373,    28,   588,   339,  6737,   457,   288,  1643,\n",
              "           7372,  2744,   511,   260,   970,    17, 40303,   228,  1385,   506,\n",
              "           1488,   563,  2967, 15905,   281,   253,  3086,   284,  7956,   260,\n",
              "           3870,   799,   690,   655,   338,  2159, 14647,   549,   281,    30,\n",
              "           9933,    28,   351,   588,   800,  1109, 21952,  2465,   578,   665,\n",
              "             28,   357,   506,  4285,   670,  2042,   288,  1042,   253,   725,\n",
              "           1138,   288,  1859,   362,   690,    30,  1848,  1036,  1137,    28,\n",
              "            339,   536,  2815,   253,  1123,  7704,   897,  1209,   284,   965,\n",
              "            816,  2117,   585,   357,   506,   253, 36631, 32035,   355,   253,\n",
              "           7963,    29,   824,    17, 15107,   231,   140,  1073,   563,   346,\n",
              "             28,   536,   346,   457,   253, 12916,    47,     2,   198,     2,\n",
              "              2,     2,     2,     2,     2,     2,     2,     2,     2,     2,\n",
              "              2,     2,     2,     2,     2,     2,     2,     2,     2,     2,\n",
              "              2,     2,     2,     2,     2,     2,     2,     2,     2,     2,\n",
              "              2,     2,     2,     2,     2,     2,     2,     2,     2,     2,\n",
              "              2,     2,     2,     2,     2,     2,     2,     2,     2,     2,\n",
              "              2,     2,     2,     2,     2,     2,     2,     2,     2,     2,\n",
              "              2,     2,     2,     2,     2,     2,     2,     2,     2,     2,\n",
              "              2,     2,     2,     2,     2,     2,     2,     2,     2,     2,\n",
              "              2,     2,     2,     2,     2,     2,     2]]),\n",
              " 'chosen_attn_mask': tensor([[1, 1, 1, 1, 1, 1, 1, 1, 1, 1, 1, 1, 1, 1, 1, 1, 1, 1, 1, 1, 1, 1, 1, 1,\n",
              "          1, 1, 1, 1, 1, 1, 1, 1, 1, 1, 1, 1, 1, 1, 1, 1, 1, 1, 1, 1, 1, 1, 1, 1,\n",
              "          1, 1, 1, 1, 1, 1, 1, 1, 1, 1, 1, 1, 1, 1, 1, 1, 1, 1, 1, 1, 1, 1, 1, 1,\n",
              "          1, 1, 1, 1, 1, 1, 1, 1, 1, 1, 1, 1, 1, 1, 1, 1, 1, 1, 1, 1, 1, 1, 1, 1,\n",
              "          1, 1, 1, 1, 1, 1, 1, 1, 1, 1, 1, 1, 1, 1, 1, 1, 1, 1, 1, 1, 1, 1, 1, 1,\n",
              "          1, 1, 1, 1, 1, 1, 1, 1, 1, 1, 1, 1, 1, 1, 1, 1, 1, 1, 1, 1, 1, 1, 1, 1,\n",
              "          1, 1, 1, 1, 1, 1, 1, 1, 1, 1, 1, 1, 1, 1, 1, 1, 1, 1, 1, 1, 1, 1, 1, 1,\n",
              "          1, 1, 1, 1, 1, 1, 1, 1, 1, 1, 1, 1, 1, 1, 1, 1, 1, 1, 1, 1, 1, 1, 1, 1,\n",
              "          1, 1, 1, 1, 1, 1, 1, 1, 1, 1, 1, 1, 1, 0, 1],\n",
              "         [1, 1, 1, 1, 1, 1, 1, 1, 1, 1, 1, 1, 1, 1, 1, 1, 1, 1, 1, 1, 1, 1, 1, 1,\n",
              "          1, 1, 1, 1, 1, 1, 1, 1, 1, 1, 1, 1, 1, 1, 1, 1, 1, 1, 1, 1, 1, 1, 1, 1,\n",
              "          1, 1, 1, 1, 1, 1, 1, 1, 1, 1, 1, 1, 1, 1, 1, 1, 1, 1, 1, 1, 1, 1, 1, 1,\n",
              "          1, 1, 1, 1, 1, 1, 1, 1, 1, 1, 1, 1, 1, 1, 1, 1, 1, 1, 1, 1, 1, 1, 1, 1,\n",
              "          1, 1, 1, 1, 1, 1, 1, 1, 1, 1, 1, 1, 1, 1, 1, 1, 1, 1, 1, 1, 1, 0, 1, 1,\n",
              "          1, 1, 1, 1, 1, 1, 1, 1, 1, 1, 1, 1, 1, 1, 1, 1, 1, 1, 1, 1, 1, 1, 1, 1,\n",
              "          1, 1, 1, 1, 1, 1, 1, 1, 1, 1, 1, 1, 1, 1, 1, 1, 1, 1, 1, 1, 1, 1, 1, 1,\n",
              "          1, 1, 1, 1, 1, 1, 1, 1, 1, 1, 1, 1, 1, 1, 1, 1, 1, 1, 1, 1, 1, 1, 1, 1,\n",
              "          1, 1, 1, 1, 1, 1, 1, 1, 1, 1, 1, 1, 1, 1, 1]]),\n",
              " 'rejected_input_ids': tensor([[   57,  1326,   982,   457,  2143,  8163,    28,  1285,   967,  2484,\n",
              "            288,  2477,    30,  1032,   253,  3544,  5646,    28,   339,   744,\n",
              "           2724,   288,  1538,  6987,  1096,   284,  2125,   253,  9174, 18410,\n",
              "             30,  3361,  3446,   314,   288,  4237,   284,  1538,  5161,  5928,\n",
              "             28,  2161,   670, 11974,  2143,  8428,   355,  4801,    30,   198,\n",
              "            198,  4460,    28,   339,   416,  1538,  1096,   335,  1461,  1995,\n",
              "            282,  2477,    28,   480,  4616,    28,   284,   260,  2642,  5017,\n",
              "            502,  2205,    30,  1094,   346,   457,   253,  1678,  1962,   355,\n",
              "           4234,  2484,   288,  2477,    28,   339,   736,   325,  5587,   288,\n",
              "           4237,   346,   351,   338,    30,     2,   198],\n",
              "         [   57,  5248, 11830,   339,  1326,   982,   457,  2143,  8163,   355,\n",
              "           8428,    28,  5277,   536,   339,  4555,   281, 18266,  2123,   715,\n",
              "            347,  7956, 10026,   355,  7372,  2744,    30,  3361,  3446,   314,\n",
              "            288,  1538,  1096,    28,  2988,  2029,    28,   284,  4237,   351,\n",
              "          33735,   288,   260,  1450,   282,   957,  6236,    28,  4719,   253,\n",
              "          13667,  3544, 47964,   418,   511,  1711,    30,  1094,   346,   457,\n",
              "            750,  1678,  2029,   355,  4366,   346,  6737,   702,   288,  1692,\n",
              "             28,   339,  5248,  1535,   288,  1538,  6007,    30,     2,   198,\n",
              "              2,     2,     2,     2,     2,     2,     2,     2,     2,     2,\n",
              "              2,     2,     2,     2,     2,     2,     2]]),\n",
              " 'rejected_attn_mask': tensor([[1, 1, 1, 1, 1, 1, 1, 1, 1, 1, 1, 1, 1, 1, 1, 1, 1, 1, 1, 1, 1, 1, 1, 1,\n",
              "          1, 1, 1, 1, 1, 1, 1, 1, 1, 1, 1, 1, 1, 1, 1, 1, 1, 1, 1, 1, 1, 1, 1, 1,\n",
              "          1, 1, 1, 1, 1, 1, 1, 1, 1, 1, 1, 1, 1, 1, 1, 1, 1, 1, 1, 1, 1, 1, 1, 1,\n",
              "          1, 1, 1, 1, 1, 1, 1, 1, 1, 1, 1, 1, 1, 1, 1, 1, 1, 1, 1, 1, 1, 1, 1, 0,\n",
              "          1],\n",
              "         [1, 1, 1, 1, 1, 1, 1, 1, 1, 1, 1, 1, 1, 1, 1, 1, 1, 1, 1, 1, 1, 1, 1, 1,\n",
              "          1, 1, 1, 1, 1, 1, 1, 1, 1, 1, 1, 1, 1, 1, 1, 1, 1, 1, 1, 1, 1, 1, 1, 1,\n",
              "          1, 1, 1, 1, 1, 1, 1, 1, 1, 1, 1, 1, 1, 1, 1, 1, 1, 1, 1, 1, 1, 1, 1, 1,\n",
              "          1, 1, 1, 1, 1, 1, 0, 1, 1, 1, 1, 1, 1, 1, 1, 1, 1, 1, 1, 1, 1, 1, 1, 1,\n",
              "          1]])}"
            ]
          },
          "execution_count": 21,
          "metadata": {},
          "output_type": "execute_result"
        }
      ],
      "source": [
        "next(iter(dataloader))\n"
      ]
    },
    {
      "cell_type": "markdown",
      "id": "628ab5cb-dd61-4f97-bd11-e790470119bf",
      "metadata": {
        "id": "628ab5cb-dd61-4f97-bd11-e790470119bf"
      },
      "source": [
        "## DPO Loss [5 баллов]\n",
        "\n",
        "Начнем с имплементации самой функции потерь. Она достаточно простая, следуйте формуле дословно и все получится."
      ]
    },
    {
      "cell_type": "code",
      "execution_count": 14,
      "id": "183621d5-0d24-446b-856b-037d4075231c",
      "metadata": {
        "id": "183621d5-0d24-446b-856b-037d4075231c"
      },
      "outputs": [],
      "source": [
        "def dpo_loss(\n",
        "    chosen_logps: torch.Tensor,\n",
        "    rejected_logps: torch.Tensor,\n",
        "    ref_chosen_logps: torch.Tensor,\n",
        "    ref_rejected_logps: torch.Tensor,\n",
        "    beta: float = 0.1,\n",
        ") -> tuple[torch.Tensor, torch.Tensor, torch.Tensor]:\n",
        "    \"\"\"\n",
        "    Computes the Direct Preference Optimization (DPO) loss and associated reward metrics.\n",
        "\n",
        "    Args:\n",
        "        chosen_logps (Tensor): A tensor of shape (batch_size,) containing the log-probabilities of the chosen responses.\n",
        "        rejected_logps (Tensor): A tensor of shape (batch_size,) containing the log-probabilities of the rejected responses.\n",
        "        ref_chosen_logps (Tensor): A tensor of shape (batch_size,) containing the reference log-probabilities for chosen responses.\n",
        "        ref_rejected_logps (Tensor): A tensor of shape (batch_size,) containing the reference log-probabilities for rejected responses.\n",
        "        beta (float, optional): A scaling factor applied to the differences in log-probabilities. Defaults to 0.1.\n",
        "\n",
        "    Returns:\n",
        "        tuple[Tensor, Tensor, Tensor]:\n",
        "            - loss (Tensor): The computed DPO loss as a scalar tensor.\n",
        "            - reward_accuracies (Tensor): The fraction of examples where the chosen reward exceeds the rejected reward.\n",
        "            - reward_margins (Tensor): The average difference between the chosen and rejected rewards.\n",
        "    \"\"\"\n",
        "    # Вычисляем награды на основе разницы лог-проб\n",
        "    r_chosen = (chosen_logps - ref_chosen_logps) / beta\n",
        "    r_rejected = (rejected_logps - ref_rejected_logps) / beta\n",
        "\n",
        "    # Вычисляем разницу наград\n",
        "    reward_diff = r_chosen - r_rejected\n",
        "\n",
        "    # DPO loss согласно формуле\n",
        "    loss = -F.logsigmoid(reward_diff).mean()\n",
        "\n",
        "    # Метрики:\n",
        "    reward_accuracies = (reward_diff > 0).float().mean()  # Доля правильных сравнений\n",
        "    reward_margins = reward_diff.mean()  # Средний отрыв выбранного ответа\n",
        "\n",
        "    return loss, reward_accuracies, reward_margins\n"
      ]
    },
    {
      "cell_type": "markdown",
      "id": "f8351081-cb90-4a02-9796-59db45944dce",
      "metadata": {
        "id": "f8351081-cb90-4a02-9796-59db45944dce"
      },
      "source": [
        "Для удобста также определим отдельную функцию чтобы считать лог-пробы по логитам. Вам нужно вытащить логиты реальных токенов из последовательности. Не забудьте замаскировать лог-пробы промпта перед аггрегацией. Маска здесь уже дана.\n",
        "\n",
        "Подсказка: внимательно подумайте как соотносятся логпробы и настоящие индексы, иначе рискуете ошибиться на 1"
      ]
    },
    {
      "cell_type": "code",
      "execution_count": 15,
      "id": "c81deee5-e71c-4709-b766-ffcb7ab365c8",
      "metadata": {
        "id": "c81deee5-e71c-4709-b766-ffcb7ab365c8"
      },
      "outputs": [],
      "source": [
        "def get_log_prob(logits: torch.Tensor, labels: torch.Tensor, mask: torch.Tensor) -> torch.Tensor:\n",
        "    \"\"\"\n",
        "    Computes the log probability for each sequence in a batch.\n",
        "\n",
        "    Args:\n",
        "        logits (Tensor): A tensor of shape [batch_size, seq_len, vocab_size]\n",
        "            representing the model's output logits.\n",
        "        labels (Tensor): A tensor of shape [batch_size, seq_len] containing the target token indices.\n",
        "        mask (Tensor): A tensor of shape [batch_size, seq_len] indicating which tokens to include\n",
        "            in the log probability (e.g., 1 for valid tokens and 0 for padding or prompt).\n",
        "\n",
        "    Returns:\n",
        "        Tensor: A tensor of shape [batch_size,] containing the log probability for each sequence.\n",
        "    \"\"\"\n",
        "    # Получаем log_softmax по последнему измерению (vocab_size)\n",
        "    log_probs = F.log_softmax(logits, dim=-1)\n",
        "\n",
        "    # Выбираем лог-пробы только для целевых токенов (labels)\n",
        "    selected_log_probs = log_probs.gather(dim=-1, index=labels.unsqueeze(-1)).squeeze(-1)\n",
        "\n",
        "    # Применяем маску, обнуляя лог-пробы для промптов и padding'а\n",
        "    masked_log_probs = selected_log_probs * mask\n",
        "\n",
        "    # Суммируем лог-пробы по всем токенам в последовательности\n",
        "    return masked_log_probs.sum(dim=-1)\n"
      ]
    },
    {
      "cell_type": "markdown",
      "id": "d528b248-2040-4605-b20a-6e43269a531c",
      "metadata": {
        "id": "d528b248-2040-4605-b20a-6e43269a531c"
      },
      "source": [
        "## Обучение DPO [5 баллов]"
      ]
    },
    {
      "cell_type": "markdown",
      "id": "597a061a-def0-4dfe-ac5a-309044b08a79",
      "metadata": {
        "id": "597a061a-def0-4dfe-ac5a-309044b08a79"
      },
      "source": [
        "На всякий случай инициализируем модель, токенизатор и датасет с нуля.\n",
        "Для простоты ограничимся обычным циклом, без конфигов, классов и прочего.\n",
        "Вы можете переписать как удобно вам, главное сохранить корректность.\n",
        "\n",
        "Все нужное у нас уже есть, осталось собрать это все вместе.\n",
        "Для этого нужно получить логпробы для промпт+выбранный и промпт+отвергнутый ответы.\n",
        "Не забыть правильно собрать маску для лосса.\n",
        "В конце обрезать финальные входы для модели до `MAX_SEQ_LEN` (с нужной стороны!).\n",
        "\n",
        "Обучение занимает примерно час на Colab T4 GPU, 2 минут на H100. В Colab лучше использовать float16 и AMP.\n",
        "Не забудьте про скейлинг. Для bf16 он не обязателен.\n",
        "\n",
        "**NB**: для обучения лучше использовать Kaggle Notebooks, т.к. они не вылетают если долго не взаимодействовать с тетрадкой. Их можно оставлять на час без боязни, что они упадут."
      ]
    },
    {
      "cell_type": "code",
      "execution_count": null,
      "id": "2290d52a-a5c3-4dab-a448-94a9cddd4e46",
      "metadata": {
        "id": "2290d52a-a5c3-4dab-a448-94a9cddd4e46"
      },
      "outputs": [
        {
          "name": "stdout",
          "output_type": "stream",
          "text": [
            "Using 'mps' device\n"
          ]
        }
      ],
      "source": [
        "BATCH_SIZE = 16  # in colab make it smaller, or implement grad accumulation\n",
        "NUM_EPOCHS = 1\n",
        "LR = 5e-5\n",
        "MAX_SEQ_LEN = 1024  # this also can be adjusted\n",
        "MAX_PROMPT_LEN = 256 # this also can be adjusted\n",
        "MAX_COMPLETION_LEN = None\n",
        "BETA = 1.0\n",
        "\n",
        "# опционально, если вам хочется логгировать метрики в W&B\n",
        "ENABLE_WANDB = False\n",
        "\n",
        "if torch.cuda.is_available():\n",
        "    DEVICE = \"cuda\"\n",
        "elif torch.backends.mps.is_available():\n",
        "    DEVICE = \"mps\"\n",
        "else:\n",
        "    DEVICE = \"cpu\"\n",
        "print(f\"Using '{DEVICE}' device\")"
      ]
    },
    {
      "cell_type": "code",
      "execution_count": 28,
      "id": "2d965a85-ae7b-4b88-9c62-aaebe54c4b2c",
      "metadata": {
        "id": "2d965a85-ae7b-4b88-9c62-aaebe54c4b2c"
      },
      "outputs": [
        {
          "data": {
            "application/vnd.jupyter.widget-view+json": {
              "model_id": "af03c6bdf8ed419f9c0795231695928c",
              "version_major": 2,
              "version_minor": 0
            },
            "text/plain": [
              "Epoch:   0%|          | 0/2721 [00:00<?, ?it/s]"
            ]
          },
          "metadata": {},
          "output_type": "display_data"
        },
        {
          "name": "stderr",
          "output_type": "stream",
          "text": [
            "/var/folders/lf/x86pzptd3pv7z45l56wggyjc0000gn/T/ipykernel_17985/2287850542.py:48: UserWarning: To copy construct from a tensor, it is recommended to use sourceTensor.clone().detach() or sourceTensor.clone().detach().requires_grad_(True), rather than torch.tensor(sourceTensor).\n",
            "  prompt_tensors = [torch.tensor(item[\"prompt_input_ids\"]) for item in batch]\n",
            "/var/folders/lf/x86pzptd3pv7z45l56wggyjc0000gn/T/ipykernel_17985/2287850542.py:49: UserWarning: To copy construct from a tensor, it is recommended to use sourceTensor.clone().detach() or sourceTensor.clone().detach().requires_grad_(True), rather than torch.tensor(sourceTensor).\n",
            "  chosen_tensors = [torch.tensor(item[\"chosen_input_ids\"]) for item in batch]\n",
            "/var/folders/lf/x86pzptd3pv7z45l56wggyjc0000gn/T/ipykernel_17985/2287850542.py:50: UserWarning: To copy construct from a tensor, it is recommended to use sourceTensor.clone().detach() or sourceTensor.clone().detach().requires_grad_(True), rather than torch.tensor(sourceTensor).\n",
            "  rejected_tensors = [torch.tensor(item[\"rejected_input_ids\"]) for item in batch]\n"
          ]
        },
        {
          "ename": "RuntimeError",
          "evalue": "MPS backend out of memory (MPS allocated: 8.45 GB, other allocations: 604.67 MB, max allowed: 9.07 GB). Tried to allocate 38.43 MB on private pool. Use PYTORCH_MPS_HIGH_WATERMARK_RATIO=0.0 to disable upper limit for memory allocations (may cause system failure).",
          "output_type": "error",
          "traceback": [
            "\u001b[0;31m---------------------------------------------------------------------------\u001b[0m",
            "\u001b[0;31mRuntimeError\u001b[0m                              Traceback (most recent call last)",
            "Cell \u001b[0;32mIn[28], line 72\u001b[0m\n\u001b[1;32m     70\u001b[0m \u001b[38;5;66;03m# 2. Получаем логи для модели и референсной модели\u001b[39;00m\n\u001b[1;32m     71\u001b[0m \u001b[38;5;28;01mwith\u001b[39;00m torch\u001b[38;5;241m.\u001b[39mno_grad():\n\u001b[0;32m---> 72\u001b[0m     ref_chosen_logits \u001b[38;5;241m=\u001b[39m \u001b[43mref_model\u001b[49m\u001b[43m(\u001b[49m\u001b[43mchosen_input_ids\u001b[49m\u001b[43m,\u001b[49m\u001b[43m \u001b[49m\u001b[43mattention_mask\u001b[49m\u001b[38;5;241;43m=\u001b[39;49m\u001b[43mchosen_attention_mask\u001b[49m\u001b[43m)\u001b[49m\u001b[38;5;241m.\u001b[39mlogits\n\u001b[1;32m     73\u001b[0m     ref_rejected_logits \u001b[38;5;241m=\u001b[39m ref_model(rejected_input_ids, attention_mask\u001b[38;5;241m=\u001b[39mrejected_attention_mask)\u001b[38;5;241m.\u001b[39mlogits\n\u001b[1;32m     75\u001b[0m chosen_logits \u001b[38;5;241m=\u001b[39m model(chosen_input_ids, attention_mask\u001b[38;5;241m=\u001b[39mchosen_attention_mask)\u001b[38;5;241m.\u001b[39mlogits\n",
            "File \u001b[0;32m/Library/Frameworks/Python.framework/Versions/3.11/lib/python3.11/site-packages/torch/nn/modules/module.py:1736\u001b[0m, in \u001b[0;36mModule._wrapped_call_impl\u001b[0;34m(self, *args, **kwargs)\u001b[0m\n\u001b[1;32m   1734\u001b[0m     \u001b[38;5;28;01mreturn\u001b[39;00m \u001b[38;5;28mself\u001b[39m\u001b[38;5;241m.\u001b[39m_compiled_call_impl(\u001b[38;5;241m*\u001b[39margs, \u001b[38;5;241m*\u001b[39m\u001b[38;5;241m*\u001b[39mkwargs)  \u001b[38;5;66;03m# type: ignore[misc]\u001b[39;00m\n\u001b[1;32m   1735\u001b[0m \u001b[38;5;28;01melse\u001b[39;00m:\n\u001b[0;32m-> 1736\u001b[0m     \u001b[38;5;28;01mreturn\u001b[39;00m \u001b[38;5;28;43mself\u001b[39;49m\u001b[38;5;241;43m.\u001b[39;49m\u001b[43m_call_impl\u001b[49m\u001b[43m(\u001b[49m\u001b[38;5;241;43m*\u001b[39;49m\u001b[43margs\u001b[49m\u001b[43m,\u001b[49m\u001b[43m \u001b[49m\u001b[38;5;241;43m*\u001b[39;49m\u001b[38;5;241;43m*\u001b[39;49m\u001b[43mkwargs\u001b[49m\u001b[43m)\u001b[49m\n",
            "File \u001b[0;32m/Library/Frameworks/Python.framework/Versions/3.11/lib/python3.11/site-packages/torch/nn/modules/module.py:1747\u001b[0m, in \u001b[0;36mModule._call_impl\u001b[0;34m(self, *args, **kwargs)\u001b[0m\n\u001b[1;32m   1742\u001b[0m \u001b[38;5;66;03m# If we don't have any hooks, we want to skip the rest of the logic in\u001b[39;00m\n\u001b[1;32m   1743\u001b[0m \u001b[38;5;66;03m# this function, and just call forward.\u001b[39;00m\n\u001b[1;32m   1744\u001b[0m \u001b[38;5;28;01mif\u001b[39;00m \u001b[38;5;129;01mnot\u001b[39;00m (\u001b[38;5;28mself\u001b[39m\u001b[38;5;241m.\u001b[39m_backward_hooks \u001b[38;5;129;01mor\u001b[39;00m \u001b[38;5;28mself\u001b[39m\u001b[38;5;241m.\u001b[39m_backward_pre_hooks \u001b[38;5;129;01mor\u001b[39;00m \u001b[38;5;28mself\u001b[39m\u001b[38;5;241m.\u001b[39m_forward_hooks \u001b[38;5;129;01mor\u001b[39;00m \u001b[38;5;28mself\u001b[39m\u001b[38;5;241m.\u001b[39m_forward_pre_hooks\n\u001b[1;32m   1745\u001b[0m         \u001b[38;5;129;01mor\u001b[39;00m _global_backward_pre_hooks \u001b[38;5;129;01mor\u001b[39;00m _global_backward_hooks\n\u001b[1;32m   1746\u001b[0m         \u001b[38;5;129;01mor\u001b[39;00m _global_forward_hooks \u001b[38;5;129;01mor\u001b[39;00m _global_forward_pre_hooks):\n\u001b[0;32m-> 1747\u001b[0m     \u001b[38;5;28;01mreturn\u001b[39;00m \u001b[43mforward_call\u001b[49m\u001b[43m(\u001b[49m\u001b[38;5;241;43m*\u001b[39;49m\u001b[43margs\u001b[49m\u001b[43m,\u001b[49m\u001b[43m \u001b[49m\u001b[38;5;241;43m*\u001b[39;49m\u001b[38;5;241;43m*\u001b[39;49m\u001b[43mkwargs\u001b[49m\u001b[43m)\u001b[49m\n\u001b[1;32m   1749\u001b[0m result \u001b[38;5;241m=\u001b[39m \u001b[38;5;28;01mNone\u001b[39;00m\n\u001b[1;32m   1750\u001b[0m called_always_called_hooks \u001b[38;5;241m=\u001b[39m \u001b[38;5;28mset\u001b[39m()\n",
            "File \u001b[0;32m/Library/Frameworks/Python.framework/Versions/3.11/lib/python3.11/site-packages/transformers/utils/deprecation.py:172\u001b[0m, in \u001b[0;36mdeprecate_kwarg.<locals>.wrapper.<locals>.wrapped_func\u001b[0;34m(*args, **kwargs)\u001b[0m\n\u001b[1;32m    168\u001b[0m \u001b[38;5;28;01melif\u001b[39;00m minimum_action \u001b[38;5;129;01min\u001b[39;00m (Action\u001b[38;5;241m.\u001b[39mNOTIFY, Action\u001b[38;5;241m.\u001b[39mNOTIFY_ALWAYS) \u001b[38;5;129;01mand\u001b[39;00m \u001b[38;5;129;01mnot\u001b[39;00m is_torchdynamo_compiling():\n\u001b[1;32m    169\u001b[0m     \u001b[38;5;66;03m# DeprecationWarning is ignored by default, so we use FutureWarning instead\u001b[39;00m\n\u001b[1;32m    170\u001b[0m     warnings\u001b[38;5;241m.\u001b[39mwarn(message, \u001b[38;5;167;01mFutureWarning\u001b[39;00m, stacklevel\u001b[38;5;241m=\u001b[39m\u001b[38;5;241m2\u001b[39m)\n\u001b[0;32m--> 172\u001b[0m \u001b[38;5;28;01mreturn\u001b[39;00m \u001b[43mfunc\u001b[49m\u001b[43m(\u001b[49m\u001b[38;5;241;43m*\u001b[39;49m\u001b[43margs\u001b[49m\u001b[43m,\u001b[49m\u001b[43m \u001b[49m\u001b[38;5;241;43m*\u001b[39;49m\u001b[38;5;241;43m*\u001b[39;49m\u001b[43mkwargs\u001b[49m\u001b[43m)\u001b[49m\n",
            "File \u001b[0;32m/Library/Frameworks/Python.framework/Versions/3.11/lib/python3.11/site-packages/transformers/models/llama/modeling_llama.py:853\u001b[0m, in \u001b[0;36mLlamaForCausalLM.forward\u001b[0;34m(self, input_ids, attention_mask, position_ids, past_key_values, inputs_embeds, labels, use_cache, output_attentions, output_hidden_states, return_dict, cache_position, logits_to_keep, **kwargs)\u001b[0m\n\u001b[1;32m    850\u001b[0m return_dict \u001b[38;5;241m=\u001b[39m return_dict \u001b[38;5;28;01mif\u001b[39;00m return_dict \u001b[38;5;129;01mis\u001b[39;00m \u001b[38;5;129;01mnot\u001b[39;00m \u001b[38;5;28;01mNone\u001b[39;00m \u001b[38;5;28;01melse\u001b[39;00m \u001b[38;5;28mself\u001b[39m\u001b[38;5;241m.\u001b[39mconfig\u001b[38;5;241m.\u001b[39muse_return_dict\n\u001b[1;32m    852\u001b[0m \u001b[38;5;66;03m# decoder outputs consists of (dec_features, layer_state, dec_hidden, dec_attn)\u001b[39;00m\n\u001b[0;32m--> 853\u001b[0m outputs \u001b[38;5;241m=\u001b[39m \u001b[38;5;28;43mself\u001b[39;49m\u001b[38;5;241;43m.\u001b[39;49m\u001b[43mmodel\u001b[49m\u001b[43m(\u001b[49m\n\u001b[1;32m    854\u001b[0m \u001b[43m    \u001b[49m\u001b[43minput_ids\u001b[49m\u001b[38;5;241;43m=\u001b[39;49m\u001b[43minput_ids\u001b[49m\u001b[43m,\u001b[49m\n\u001b[1;32m    855\u001b[0m \u001b[43m    \u001b[49m\u001b[43mattention_mask\u001b[49m\u001b[38;5;241;43m=\u001b[39;49m\u001b[43mattention_mask\u001b[49m\u001b[43m,\u001b[49m\n\u001b[1;32m    856\u001b[0m \u001b[43m    \u001b[49m\u001b[43mposition_ids\u001b[49m\u001b[38;5;241;43m=\u001b[39;49m\u001b[43mposition_ids\u001b[49m\u001b[43m,\u001b[49m\n\u001b[1;32m    857\u001b[0m \u001b[43m    \u001b[49m\u001b[43mpast_key_values\u001b[49m\u001b[38;5;241;43m=\u001b[39;49m\u001b[43mpast_key_values\u001b[49m\u001b[43m,\u001b[49m\n\u001b[1;32m    858\u001b[0m \u001b[43m    \u001b[49m\u001b[43minputs_embeds\u001b[49m\u001b[38;5;241;43m=\u001b[39;49m\u001b[43minputs_embeds\u001b[49m\u001b[43m,\u001b[49m\n\u001b[1;32m    859\u001b[0m \u001b[43m    \u001b[49m\u001b[43muse_cache\u001b[49m\u001b[38;5;241;43m=\u001b[39;49m\u001b[43muse_cache\u001b[49m\u001b[43m,\u001b[49m\n\u001b[1;32m    860\u001b[0m \u001b[43m    \u001b[49m\u001b[43moutput_attentions\u001b[49m\u001b[38;5;241;43m=\u001b[39;49m\u001b[43moutput_attentions\u001b[49m\u001b[43m,\u001b[49m\n\u001b[1;32m    861\u001b[0m \u001b[43m    \u001b[49m\u001b[43moutput_hidden_states\u001b[49m\u001b[38;5;241;43m=\u001b[39;49m\u001b[43moutput_hidden_states\u001b[49m\u001b[43m,\u001b[49m\n\u001b[1;32m    862\u001b[0m \u001b[43m    \u001b[49m\u001b[43mreturn_dict\u001b[49m\u001b[38;5;241;43m=\u001b[39;49m\u001b[43mreturn_dict\u001b[49m\u001b[43m,\u001b[49m\n\u001b[1;32m    863\u001b[0m \u001b[43m    \u001b[49m\u001b[43mcache_position\u001b[49m\u001b[38;5;241;43m=\u001b[39;49m\u001b[43mcache_position\u001b[49m\u001b[43m,\u001b[49m\n\u001b[1;32m    864\u001b[0m \u001b[43m    \u001b[49m\u001b[38;5;241;43m*\u001b[39;49m\u001b[38;5;241;43m*\u001b[39;49m\u001b[43mkwargs\u001b[49m\u001b[43m,\u001b[49m\n\u001b[1;32m    865\u001b[0m \u001b[43m\u001b[49m\u001b[43m)\u001b[49m\n\u001b[1;32m    867\u001b[0m hidden_states \u001b[38;5;241m=\u001b[39m outputs[\u001b[38;5;241m0\u001b[39m]\n\u001b[1;32m    868\u001b[0m \u001b[38;5;66;03m# Only compute necessary logits, and do not upcast them to float if we are not computing the loss\u001b[39;00m\n",
            "File \u001b[0;32m/Library/Frameworks/Python.framework/Versions/3.11/lib/python3.11/site-packages/torch/nn/modules/module.py:1736\u001b[0m, in \u001b[0;36mModule._wrapped_call_impl\u001b[0;34m(self, *args, **kwargs)\u001b[0m\n\u001b[1;32m   1734\u001b[0m     \u001b[38;5;28;01mreturn\u001b[39;00m \u001b[38;5;28mself\u001b[39m\u001b[38;5;241m.\u001b[39m_compiled_call_impl(\u001b[38;5;241m*\u001b[39margs, \u001b[38;5;241m*\u001b[39m\u001b[38;5;241m*\u001b[39mkwargs)  \u001b[38;5;66;03m# type: ignore[misc]\u001b[39;00m\n\u001b[1;32m   1735\u001b[0m \u001b[38;5;28;01melse\u001b[39;00m:\n\u001b[0;32m-> 1736\u001b[0m     \u001b[38;5;28;01mreturn\u001b[39;00m \u001b[38;5;28;43mself\u001b[39;49m\u001b[38;5;241;43m.\u001b[39;49m\u001b[43m_call_impl\u001b[49m\u001b[43m(\u001b[49m\u001b[38;5;241;43m*\u001b[39;49m\u001b[43margs\u001b[49m\u001b[43m,\u001b[49m\u001b[43m \u001b[49m\u001b[38;5;241;43m*\u001b[39;49m\u001b[38;5;241;43m*\u001b[39;49m\u001b[43mkwargs\u001b[49m\u001b[43m)\u001b[49m\n",
            "File \u001b[0;32m/Library/Frameworks/Python.framework/Versions/3.11/lib/python3.11/site-packages/torch/nn/modules/module.py:1747\u001b[0m, in \u001b[0;36mModule._call_impl\u001b[0;34m(self, *args, **kwargs)\u001b[0m\n\u001b[1;32m   1742\u001b[0m \u001b[38;5;66;03m# If we don't have any hooks, we want to skip the rest of the logic in\u001b[39;00m\n\u001b[1;32m   1743\u001b[0m \u001b[38;5;66;03m# this function, and just call forward.\u001b[39;00m\n\u001b[1;32m   1744\u001b[0m \u001b[38;5;28;01mif\u001b[39;00m \u001b[38;5;129;01mnot\u001b[39;00m (\u001b[38;5;28mself\u001b[39m\u001b[38;5;241m.\u001b[39m_backward_hooks \u001b[38;5;129;01mor\u001b[39;00m \u001b[38;5;28mself\u001b[39m\u001b[38;5;241m.\u001b[39m_backward_pre_hooks \u001b[38;5;129;01mor\u001b[39;00m \u001b[38;5;28mself\u001b[39m\u001b[38;5;241m.\u001b[39m_forward_hooks \u001b[38;5;129;01mor\u001b[39;00m \u001b[38;5;28mself\u001b[39m\u001b[38;5;241m.\u001b[39m_forward_pre_hooks\n\u001b[1;32m   1745\u001b[0m         \u001b[38;5;129;01mor\u001b[39;00m _global_backward_pre_hooks \u001b[38;5;129;01mor\u001b[39;00m _global_backward_hooks\n\u001b[1;32m   1746\u001b[0m         \u001b[38;5;129;01mor\u001b[39;00m _global_forward_hooks \u001b[38;5;129;01mor\u001b[39;00m _global_forward_pre_hooks):\n\u001b[0;32m-> 1747\u001b[0m     \u001b[38;5;28;01mreturn\u001b[39;00m \u001b[43mforward_call\u001b[49m\u001b[43m(\u001b[49m\u001b[38;5;241;43m*\u001b[39;49m\u001b[43margs\u001b[49m\u001b[43m,\u001b[49m\u001b[43m \u001b[49m\u001b[38;5;241;43m*\u001b[39;49m\u001b[38;5;241;43m*\u001b[39;49m\u001b[43mkwargs\u001b[49m\u001b[43m)\u001b[49m\n\u001b[1;32m   1749\u001b[0m result \u001b[38;5;241m=\u001b[39m \u001b[38;5;28;01mNone\u001b[39;00m\n\u001b[1;32m   1750\u001b[0m called_always_called_hooks \u001b[38;5;241m=\u001b[39m \u001b[38;5;28mset\u001b[39m()\n",
            "File \u001b[0;32m/Library/Frameworks/Python.framework/Versions/3.11/lib/python3.11/site-packages/transformers/models/llama/modeling_llama.py:601\u001b[0m, in \u001b[0;36mLlamaModel.forward\u001b[0;34m(self, input_ids, attention_mask, position_ids, past_key_values, inputs_embeds, use_cache, output_attentions, output_hidden_states, return_dict, cache_position, **flash_attn_kwargs)\u001b[0m\n\u001b[1;32m    589\u001b[0m     layer_outputs \u001b[38;5;241m=\u001b[39m \u001b[38;5;28mself\u001b[39m\u001b[38;5;241m.\u001b[39m_gradient_checkpointing_func(\n\u001b[1;32m    590\u001b[0m         decoder_layer\u001b[38;5;241m.\u001b[39m\u001b[38;5;21m__call__\u001b[39m,\n\u001b[1;32m    591\u001b[0m         hidden_states,\n\u001b[0;32m   (...)\u001b[0m\n\u001b[1;32m    598\u001b[0m         position_embeddings,\n\u001b[1;32m    599\u001b[0m     )\n\u001b[1;32m    600\u001b[0m \u001b[38;5;28;01melse\u001b[39;00m:\n\u001b[0;32m--> 601\u001b[0m     layer_outputs \u001b[38;5;241m=\u001b[39m \u001b[43mdecoder_layer\u001b[49m\u001b[43m(\u001b[49m\n\u001b[1;32m    602\u001b[0m \u001b[43m        \u001b[49m\u001b[43mhidden_states\u001b[49m\u001b[43m,\u001b[49m\n\u001b[1;32m    603\u001b[0m \u001b[43m        \u001b[49m\u001b[43mattention_mask\u001b[49m\u001b[38;5;241;43m=\u001b[39;49m\u001b[43mcausal_mask\u001b[49m\u001b[43m,\u001b[49m\n\u001b[1;32m    604\u001b[0m \u001b[43m        \u001b[49m\u001b[43mposition_ids\u001b[49m\u001b[38;5;241;43m=\u001b[39;49m\u001b[43mposition_ids\u001b[49m\u001b[43m,\u001b[49m\n\u001b[1;32m    605\u001b[0m \u001b[43m        \u001b[49m\u001b[43mpast_key_value\u001b[49m\u001b[38;5;241;43m=\u001b[39;49m\u001b[43mpast_key_values\u001b[49m\u001b[43m,\u001b[49m\n\u001b[1;32m    606\u001b[0m \u001b[43m        \u001b[49m\u001b[43moutput_attentions\u001b[49m\u001b[38;5;241;43m=\u001b[39;49m\u001b[43moutput_attentions\u001b[49m\u001b[43m,\u001b[49m\n\u001b[1;32m    607\u001b[0m \u001b[43m        \u001b[49m\u001b[43muse_cache\u001b[49m\u001b[38;5;241;43m=\u001b[39;49m\u001b[43muse_cache\u001b[49m\u001b[43m,\u001b[49m\n\u001b[1;32m    608\u001b[0m \u001b[43m        \u001b[49m\u001b[43mcache_position\u001b[49m\u001b[38;5;241;43m=\u001b[39;49m\u001b[43mcache_position\u001b[49m\u001b[43m,\u001b[49m\n\u001b[1;32m    609\u001b[0m \u001b[43m        \u001b[49m\u001b[43mposition_embeddings\u001b[49m\u001b[38;5;241;43m=\u001b[39;49m\u001b[43mposition_embeddings\u001b[49m\u001b[43m,\u001b[49m\n\u001b[1;32m    610\u001b[0m \u001b[43m        \u001b[49m\u001b[38;5;241;43m*\u001b[39;49m\u001b[38;5;241;43m*\u001b[39;49m\u001b[43mflash_attn_kwargs\u001b[49m\u001b[43m,\u001b[49m\n\u001b[1;32m    611\u001b[0m \u001b[43m    \u001b[49m\u001b[43m)\u001b[49m\n\u001b[1;32m    613\u001b[0m hidden_states \u001b[38;5;241m=\u001b[39m layer_outputs[\u001b[38;5;241m0\u001b[39m]\n\u001b[1;32m    615\u001b[0m \u001b[38;5;28;01mif\u001b[39;00m output_attentions:\n",
            "File \u001b[0;32m/Library/Frameworks/Python.framework/Versions/3.11/lib/python3.11/site-packages/torch/nn/modules/module.py:1736\u001b[0m, in \u001b[0;36mModule._wrapped_call_impl\u001b[0;34m(self, *args, **kwargs)\u001b[0m\n\u001b[1;32m   1734\u001b[0m     \u001b[38;5;28;01mreturn\u001b[39;00m \u001b[38;5;28mself\u001b[39m\u001b[38;5;241m.\u001b[39m_compiled_call_impl(\u001b[38;5;241m*\u001b[39margs, \u001b[38;5;241m*\u001b[39m\u001b[38;5;241m*\u001b[39mkwargs)  \u001b[38;5;66;03m# type: ignore[misc]\u001b[39;00m\n\u001b[1;32m   1735\u001b[0m \u001b[38;5;28;01melse\u001b[39;00m:\n\u001b[0;32m-> 1736\u001b[0m     \u001b[38;5;28;01mreturn\u001b[39;00m \u001b[38;5;28;43mself\u001b[39;49m\u001b[38;5;241;43m.\u001b[39;49m\u001b[43m_call_impl\u001b[49m\u001b[43m(\u001b[49m\u001b[38;5;241;43m*\u001b[39;49m\u001b[43margs\u001b[49m\u001b[43m,\u001b[49m\u001b[43m \u001b[49m\u001b[38;5;241;43m*\u001b[39;49m\u001b[38;5;241;43m*\u001b[39;49m\u001b[43mkwargs\u001b[49m\u001b[43m)\u001b[49m\n",
            "File \u001b[0;32m/Library/Frameworks/Python.framework/Versions/3.11/lib/python3.11/site-packages/torch/nn/modules/module.py:1747\u001b[0m, in \u001b[0;36mModule._call_impl\u001b[0;34m(self, *args, **kwargs)\u001b[0m\n\u001b[1;32m   1742\u001b[0m \u001b[38;5;66;03m# If we don't have any hooks, we want to skip the rest of the logic in\u001b[39;00m\n\u001b[1;32m   1743\u001b[0m \u001b[38;5;66;03m# this function, and just call forward.\u001b[39;00m\n\u001b[1;32m   1744\u001b[0m \u001b[38;5;28;01mif\u001b[39;00m \u001b[38;5;129;01mnot\u001b[39;00m (\u001b[38;5;28mself\u001b[39m\u001b[38;5;241m.\u001b[39m_backward_hooks \u001b[38;5;129;01mor\u001b[39;00m \u001b[38;5;28mself\u001b[39m\u001b[38;5;241m.\u001b[39m_backward_pre_hooks \u001b[38;5;129;01mor\u001b[39;00m \u001b[38;5;28mself\u001b[39m\u001b[38;5;241m.\u001b[39m_forward_hooks \u001b[38;5;129;01mor\u001b[39;00m \u001b[38;5;28mself\u001b[39m\u001b[38;5;241m.\u001b[39m_forward_pre_hooks\n\u001b[1;32m   1745\u001b[0m         \u001b[38;5;129;01mor\u001b[39;00m _global_backward_pre_hooks \u001b[38;5;129;01mor\u001b[39;00m _global_backward_hooks\n\u001b[1;32m   1746\u001b[0m         \u001b[38;5;129;01mor\u001b[39;00m _global_forward_hooks \u001b[38;5;129;01mor\u001b[39;00m _global_forward_pre_hooks):\n\u001b[0;32m-> 1747\u001b[0m     \u001b[38;5;28;01mreturn\u001b[39;00m \u001b[43mforward_call\u001b[49m\u001b[43m(\u001b[49m\u001b[38;5;241;43m*\u001b[39;49m\u001b[43margs\u001b[49m\u001b[43m,\u001b[49m\u001b[43m \u001b[49m\u001b[38;5;241;43m*\u001b[39;49m\u001b[38;5;241;43m*\u001b[39;49m\u001b[43mkwargs\u001b[49m\u001b[43m)\u001b[49m\n\u001b[1;32m   1749\u001b[0m result \u001b[38;5;241m=\u001b[39m \u001b[38;5;28;01mNone\u001b[39;00m\n\u001b[1;32m   1750\u001b[0m called_always_called_hooks \u001b[38;5;241m=\u001b[39m \u001b[38;5;28mset\u001b[39m()\n",
            "File \u001b[0;32m/Library/Frameworks/Python.framework/Versions/3.11/lib/python3.11/site-packages/transformers/models/llama/modeling_llama.py:343\u001b[0m, in \u001b[0;36mLlamaDecoderLayer.forward\u001b[0;34m(self, hidden_states, attention_mask, position_ids, past_key_value, output_attentions, use_cache, cache_position, position_embeddings, **kwargs)\u001b[0m\n\u001b[1;32m    340\u001b[0m hidden_states \u001b[38;5;241m=\u001b[39m \u001b[38;5;28mself\u001b[39m\u001b[38;5;241m.\u001b[39minput_layernorm(hidden_states)\n\u001b[1;32m    342\u001b[0m \u001b[38;5;66;03m# Self Attention\u001b[39;00m\n\u001b[0;32m--> 343\u001b[0m hidden_states, self_attn_weights \u001b[38;5;241m=\u001b[39m \u001b[38;5;28;43mself\u001b[39;49m\u001b[38;5;241;43m.\u001b[39;49m\u001b[43mself_attn\u001b[49m\u001b[43m(\u001b[49m\n\u001b[1;32m    344\u001b[0m \u001b[43m    \u001b[49m\u001b[43mhidden_states\u001b[49m\u001b[38;5;241;43m=\u001b[39;49m\u001b[43mhidden_states\u001b[49m\u001b[43m,\u001b[49m\n\u001b[1;32m    345\u001b[0m \u001b[43m    \u001b[49m\u001b[43mattention_mask\u001b[49m\u001b[38;5;241;43m=\u001b[39;49m\u001b[43mattention_mask\u001b[49m\u001b[43m,\u001b[49m\n\u001b[1;32m    346\u001b[0m \u001b[43m    \u001b[49m\u001b[43mposition_ids\u001b[49m\u001b[38;5;241;43m=\u001b[39;49m\u001b[43mposition_ids\u001b[49m\u001b[43m,\u001b[49m\n\u001b[1;32m    347\u001b[0m \u001b[43m    \u001b[49m\u001b[43mpast_key_value\u001b[49m\u001b[38;5;241;43m=\u001b[39;49m\u001b[43mpast_key_value\u001b[49m\u001b[43m,\u001b[49m\n\u001b[1;32m    348\u001b[0m \u001b[43m    \u001b[49m\u001b[43moutput_attentions\u001b[49m\u001b[38;5;241;43m=\u001b[39;49m\u001b[43moutput_attentions\u001b[49m\u001b[43m,\u001b[49m\n\u001b[1;32m    349\u001b[0m \u001b[43m    \u001b[49m\u001b[43muse_cache\u001b[49m\u001b[38;5;241;43m=\u001b[39;49m\u001b[43muse_cache\u001b[49m\u001b[43m,\u001b[49m\n\u001b[1;32m    350\u001b[0m \u001b[43m    \u001b[49m\u001b[43mcache_position\u001b[49m\u001b[38;5;241;43m=\u001b[39;49m\u001b[43mcache_position\u001b[49m\u001b[43m,\u001b[49m\n\u001b[1;32m    351\u001b[0m \u001b[43m    \u001b[49m\u001b[43mposition_embeddings\u001b[49m\u001b[38;5;241;43m=\u001b[39;49m\u001b[43mposition_embeddings\u001b[49m\u001b[43m,\u001b[49m\n\u001b[1;32m    352\u001b[0m \u001b[43m    \u001b[49m\u001b[38;5;241;43m*\u001b[39;49m\u001b[38;5;241;43m*\u001b[39;49m\u001b[43mkwargs\u001b[49m\u001b[43m,\u001b[49m\n\u001b[1;32m    353\u001b[0m \u001b[43m\u001b[49m\u001b[43m)\u001b[49m\n\u001b[1;32m    354\u001b[0m hidden_states \u001b[38;5;241m=\u001b[39m residual \u001b[38;5;241m+\u001b[39m hidden_states\n\u001b[1;32m    356\u001b[0m \u001b[38;5;66;03m# Fully Connected\u001b[39;00m\n",
            "File \u001b[0;32m/Library/Frameworks/Python.framework/Versions/3.11/lib/python3.11/site-packages/torch/nn/modules/module.py:1736\u001b[0m, in \u001b[0;36mModule._wrapped_call_impl\u001b[0;34m(self, *args, **kwargs)\u001b[0m\n\u001b[1;32m   1734\u001b[0m     \u001b[38;5;28;01mreturn\u001b[39;00m \u001b[38;5;28mself\u001b[39m\u001b[38;5;241m.\u001b[39m_compiled_call_impl(\u001b[38;5;241m*\u001b[39margs, \u001b[38;5;241m*\u001b[39m\u001b[38;5;241m*\u001b[39mkwargs)  \u001b[38;5;66;03m# type: ignore[misc]\u001b[39;00m\n\u001b[1;32m   1735\u001b[0m \u001b[38;5;28;01melse\u001b[39;00m:\n\u001b[0;32m-> 1736\u001b[0m     \u001b[38;5;28;01mreturn\u001b[39;00m \u001b[38;5;28;43mself\u001b[39;49m\u001b[38;5;241;43m.\u001b[39;49m\u001b[43m_call_impl\u001b[49m\u001b[43m(\u001b[49m\u001b[38;5;241;43m*\u001b[39;49m\u001b[43margs\u001b[49m\u001b[43m,\u001b[49m\u001b[43m \u001b[49m\u001b[38;5;241;43m*\u001b[39;49m\u001b[38;5;241;43m*\u001b[39;49m\u001b[43mkwargs\u001b[49m\u001b[43m)\u001b[49m\n",
            "File \u001b[0;32m/Library/Frameworks/Python.framework/Versions/3.11/lib/python3.11/site-packages/torch/nn/modules/module.py:1747\u001b[0m, in \u001b[0;36mModule._call_impl\u001b[0;34m(self, *args, **kwargs)\u001b[0m\n\u001b[1;32m   1742\u001b[0m \u001b[38;5;66;03m# If we don't have any hooks, we want to skip the rest of the logic in\u001b[39;00m\n\u001b[1;32m   1743\u001b[0m \u001b[38;5;66;03m# this function, and just call forward.\u001b[39;00m\n\u001b[1;32m   1744\u001b[0m \u001b[38;5;28;01mif\u001b[39;00m \u001b[38;5;129;01mnot\u001b[39;00m (\u001b[38;5;28mself\u001b[39m\u001b[38;5;241m.\u001b[39m_backward_hooks \u001b[38;5;129;01mor\u001b[39;00m \u001b[38;5;28mself\u001b[39m\u001b[38;5;241m.\u001b[39m_backward_pre_hooks \u001b[38;5;129;01mor\u001b[39;00m \u001b[38;5;28mself\u001b[39m\u001b[38;5;241m.\u001b[39m_forward_hooks \u001b[38;5;129;01mor\u001b[39;00m \u001b[38;5;28mself\u001b[39m\u001b[38;5;241m.\u001b[39m_forward_pre_hooks\n\u001b[1;32m   1745\u001b[0m         \u001b[38;5;129;01mor\u001b[39;00m _global_backward_pre_hooks \u001b[38;5;129;01mor\u001b[39;00m _global_backward_hooks\n\u001b[1;32m   1746\u001b[0m         \u001b[38;5;129;01mor\u001b[39;00m _global_forward_hooks \u001b[38;5;129;01mor\u001b[39;00m _global_forward_pre_hooks):\n\u001b[0;32m-> 1747\u001b[0m     \u001b[38;5;28;01mreturn\u001b[39;00m \u001b[43mforward_call\u001b[49m\u001b[43m(\u001b[49m\u001b[38;5;241;43m*\u001b[39;49m\u001b[43margs\u001b[49m\u001b[43m,\u001b[49m\u001b[43m \u001b[49m\u001b[38;5;241;43m*\u001b[39;49m\u001b[38;5;241;43m*\u001b[39;49m\u001b[43mkwargs\u001b[49m\u001b[43m)\u001b[49m\n\u001b[1;32m   1749\u001b[0m result \u001b[38;5;241m=\u001b[39m \u001b[38;5;28;01mNone\u001b[39;00m\n\u001b[1;32m   1750\u001b[0m called_always_called_hooks \u001b[38;5;241m=\u001b[39m \u001b[38;5;28mset\u001b[39m()\n",
            "File \u001b[0;32m/Library/Frameworks/Python.framework/Versions/3.11/lib/python3.11/site-packages/transformers/models/llama/modeling_llama.py:299\u001b[0m, in \u001b[0;36mLlamaAttention.forward\u001b[0;34m(self, hidden_states, position_embeddings, attention_mask, past_key_value, cache_position, **kwargs)\u001b[0m\n\u001b[1;32m    296\u001b[0m     \u001b[38;5;28;01melse\u001b[39;00m:\n\u001b[1;32m    297\u001b[0m         attention_interface \u001b[38;5;241m=\u001b[39m ALL_ATTENTION_FUNCTIONS[\u001b[38;5;28mself\u001b[39m\u001b[38;5;241m.\u001b[39mconfig\u001b[38;5;241m.\u001b[39m_attn_implementation]\n\u001b[0;32m--> 299\u001b[0m attn_output, attn_weights \u001b[38;5;241m=\u001b[39m \u001b[43mattention_interface\u001b[49m\u001b[43m(\u001b[49m\n\u001b[1;32m    300\u001b[0m \u001b[43m    \u001b[49m\u001b[38;5;28;43mself\u001b[39;49m\u001b[43m,\u001b[49m\n\u001b[1;32m    301\u001b[0m \u001b[43m    \u001b[49m\u001b[43mquery_states\u001b[49m\u001b[43m,\u001b[49m\n\u001b[1;32m    302\u001b[0m \u001b[43m    \u001b[49m\u001b[43mkey_states\u001b[49m\u001b[43m,\u001b[49m\n\u001b[1;32m    303\u001b[0m \u001b[43m    \u001b[49m\u001b[43mvalue_states\u001b[49m\u001b[43m,\u001b[49m\n\u001b[1;32m    304\u001b[0m \u001b[43m    \u001b[49m\u001b[43mattention_mask\u001b[49m\u001b[43m,\u001b[49m\n\u001b[1;32m    305\u001b[0m \u001b[43m    \u001b[49m\u001b[43mdropout\u001b[49m\u001b[38;5;241;43m=\u001b[39;49m\u001b[38;5;241;43m0.0\u001b[39;49m\u001b[43m \u001b[49m\u001b[38;5;28;43;01mif\u001b[39;49;00m\u001b[43m \u001b[49m\u001b[38;5;129;43;01mnot\u001b[39;49;00m\u001b[43m \u001b[49m\u001b[38;5;28;43mself\u001b[39;49m\u001b[38;5;241;43m.\u001b[39;49m\u001b[43mtraining\u001b[49m\u001b[43m \u001b[49m\u001b[38;5;28;43;01melse\u001b[39;49;00m\u001b[43m \u001b[49m\u001b[38;5;28;43mself\u001b[39;49m\u001b[38;5;241;43m.\u001b[39;49m\u001b[43mattention_dropout\u001b[49m\u001b[43m,\u001b[49m\n\u001b[1;32m    306\u001b[0m \u001b[43m    \u001b[49m\u001b[43mscaling\u001b[49m\u001b[38;5;241;43m=\u001b[39;49m\u001b[38;5;28;43mself\u001b[39;49m\u001b[38;5;241;43m.\u001b[39;49m\u001b[43mscaling\u001b[49m\u001b[43m,\u001b[49m\n\u001b[1;32m    307\u001b[0m \u001b[43m    \u001b[49m\u001b[38;5;241;43m*\u001b[39;49m\u001b[38;5;241;43m*\u001b[39;49m\u001b[43mkwargs\u001b[49m\u001b[43m,\u001b[49m\n\u001b[1;32m    308\u001b[0m \u001b[43m\u001b[49m\u001b[43m)\u001b[49m\n\u001b[1;32m    310\u001b[0m attn_output \u001b[38;5;241m=\u001b[39m attn_output\u001b[38;5;241m.\u001b[39mreshape(\u001b[38;5;241m*\u001b[39minput_shape, \u001b[38;5;241m-\u001b[39m\u001b[38;5;241m1\u001b[39m)\u001b[38;5;241m.\u001b[39mcontiguous()\n\u001b[1;32m    311\u001b[0m attn_output \u001b[38;5;241m=\u001b[39m \u001b[38;5;28mself\u001b[39m\u001b[38;5;241m.\u001b[39mo_proj(attn_output)\n",
            "File \u001b[0;32m/Library/Frameworks/Python.framework/Versions/3.11/lib/python3.11/site-packages/transformers/integrations/sdpa_attention.py:54\u001b[0m, in \u001b[0;36msdpa_attention_forward\u001b[0;34m(module, query, key, value, attention_mask, dropout, scaling, is_causal, **kwargs)\u001b[0m\n\u001b[1;32m     51\u001b[0m \u001b[38;5;28;01mif\u001b[39;00m torch\u001b[38;5;241m.\u001b[39mjit\u001b[38;5;241m.\u001b[39mis_tracing() \u001b[38;5;129;01mand\u001b[39;00m \u001b[38;5;28misinstance\u001b[39m(is_causal, torch\u001b[38;5;241m.\u001b[39mTensor):\n\u001b[1;32m     52\u001b[0m     is_causal \u001b[38;5;241m=\u001b[39m is_causal\u001b[38;5;241m.\u001b[39mitem()\n\u001b[0;32m---> 54\u001b[0m attn_output \u001b[38;5;241m=\u001b[39m \u001b[43mtorch\u001b[49m\u001b[38;5;241;43m.\u001b[39;49m\u001b[43mnn\u001b[49m\u001b[38;5;241;43m.\u001b[39;49m\u001b[43mfunctional\u001b[49m\u001b[38;5;241;43m.\u001b[39;49m\u001b[43mscaled_dot_product_attention\u001b[49m\u001b[43m(\u001b[49m\n\u001b[1;32m     55\u001b[0m \u001b[43m    \u001b[49m\u001b[43mquery\u001b[49m\u001b[43m,\u001b[49m\n\u001b[1;32m     56\u001b[0m \u001b[43m    \u001b[49m\u001b[43mkey\u001b[49m\u001b[43m,\u001b[49m\n\u001b[1;32m     57\u001b[0m \u001b[43m    \u001b[49m\u001b[43mvalue\u001b[49m\u001b[43m,\u001b[49m\n\u001b[1;32m     58\u001b[0m \u001b[43m    \u001b[49m\u001b[43mattn_mask\u001b[49m\u001b[38;5;241;43m=\u001b[39;49m\u001b[43mcausal_mask\u001b[49m\u001b[43m,\u001b[49m\n\u001b[1;32m     59\u001b[0m \u001b[43m    \u001b[49m\u001b[43mdropout_p\u001b[49m\u001b[38;5;241;43m=\u001b[39;49m\u001b[43mdropout\u001b[49m\u001b[43m,\u001b[49m\n\u001b[1;32m     60\u001b[0m \u001b[43m    \u001b[49m\u001b[43mscale\u001b[49m\u001b[38;5;241;43m=\u001b[39;49m\u001b[43mscaling\u001b[49m\u001b[43m,\u001b[49m\n\u001b[1;32m     61\u001b[0m \u001b[43m    \u001b[49m\u001b[43mis_causal\u001b[49m\u001b[38;5;241;43m=\u001b[39;49m\u001b[43mis_causal\u001b[49m\u001b[43m,\u001b[49m\n\u001b[1;32m     62\u001b[0m \u001b[43m\u001b[49m\u001b[43m)\u001b[49m\n\u001b[1;32m     63\u001b[0m attn_output \u001b[38;5;241m=\u001b[39m attn_output\u001b[38;5;241m.\u001b[39mtranspose(\u001b[38;5;241m1\u001b[39m, \u001b[38;5;241m2\u001b[39m)\u001b[38;5;241m.\u001b[39mcontiguous()\n\u001b[1;32m     65\u001b[0m \u001b[38;5;28;01mreturn\u001b[39;00m attn_output, \u001b[38;5;28;01mNone\u001b[39;00m\n",
            "\u001b[0;31mRuntimeError\u001b[0m: MPS backend out of memory (MPS allocated: 8.45 GB, other allocations: 604.67 MB, max allowed: 9.07 GB). Tried to allocate 38.43 MB on private pool. Use PYTORCH_MPS_HIGH_WATERMARK_RATIO=0.0 to disable upper limit for memory allocations (may cause system failure)."
          ]
        }
      ],
      "source": [
        "set_seed(42)\n",
        "\n",
        "if ENABLE_WANDB:\n",
        "    wandb.init(project=\"hw2-rlhf\", group=\"dpo\")\n",
        "\n",
        "model = AutoModelForCausalLM.from_pretrained(\n",
        "    MODEL_ID,\n",
        "    attn_implementation=\"sdpa\",\n",
        "    # only if you have A/H100 GPU\n",
        "    # torch_dtype=torch.bfloat16,\n",
        "    device_map=DEVICE,\n",
        ")\n",
        "model.train()\n",
        "disable_dropout_in_model(model)\n",
        "\n",
        "ref_model = AutoModelForCausalLM.from_pretrained(\n",
        "    MODEL_ID,\n",
        "    attn_implementation=\"sdpa\",\n",
        "    # only if you have A/H100 GPU\n",
        "    # torch_dtype=torch.bfloat16,\n",
        "    device_map=DEVICE,\n",
        ")\n",
        "ref_model.eval()\n",
        "disable_dropout_in_model(ref_model)\n",
        "\n",
        "tokenizer = AutoTokenizer.from_pretrained(MODEL_ID)\n",
        "tokenizer.pad_token = tokenizer.eos_token\n",
        "\n",
        "dataset = load_dataset(DATASET_ID, split=\"train\")\n",
        "dataset = dataset.map(apply_chat_template, fn_kwargs={\"tokenizer\": tokenizer})\n",
        "dataset = dataset.map(\n",
        "    tokenize_row,\n",
        "    fn_kwargs={\n",
        "        \"tokenizer\": tokenizer,\n",
        "        \"max_prompt_length\": MAX_PROMPT_LEN,\n",
        "        \"max_completion_length\": MAX_COMPLETION_LEN,\n",
        "    },\n",
        "    remove_columns=[\"prompt\", \"chosen\", \"rejected\"],\n",
        ")\n",
        "dataloader = DataLoader(\n",
        "    dataset.with_format(\"torch\"),\n",
        "    batch_size=BATCH_SIZE,\n",
        "    shuffle=True,\n",
        "    pin_memory=False,\n",
        "    collate_fn=partial(pad_collate_fn, pad_token_id=tokenizer.pad_token_id),\n",
        ")\n",
        "optimizer = torch.optim.AdamW(model.parameters(), lr=LR)\n",
        "\n",
        "for epoch in range(NUM_EPOCHS):\n",
        "    losses, accs, margins = [], [], []\n",
        "\n",
        "    pbar = tqdm(dataloader, desc=\"Epoch\", leave=False)\n",
        "    for batch in pbar:\n",
        "        batch = {k: v.to(DEVICE) for k, v in batch.items()}\n",
        "\n",
        "        # 1. Соединяем промпт с выбранными и отклоненными ответами\n",
        "        chosen_input_ids = torch.cat([batch[\"prompt_input_ids\"], batch[\"chosen_input_ids\"]], dim=-1)\n",
        "        rejected_input_ids = torch.cat([batch[\"prompt_input_ids\"], batch[\"rejected_input_ids\"]], dim=-1)\n",
        "\n",
        "        chosen_attention_mask = torch.cat([batch[\"prompt_attn_mask\"], batch[\"chosen_attn_mask\"]], dim=-1)\n",
        "        rejected_attention_mask = torch.cat([batch[\"prompt_attn_mask\"], batch[\"rejected_attn_mask\"]], dim=-1)\n",
        "\n",
        "        # Обрезаем последовательности до MAX_SEQ_LEN\n",
        "        chosen_input_ids = chosen_input_ids[:, :MAX_SEQ_LEN]\n",
        "        rejected_input_ids = rejected_input_ids[:, :MAX_SEQ_LEN]\n",
        "\n",
        "        chosen_attention_mask = chosen_attention_mask[:, :MAX_SEQ_LEN]\n",
        "        rejected_attention_mask = rejected_attention_mask[:, :MAX_SEQ_LEN]\n",
        "\n",
        "        # 2. Получаем логи для модели и референсной модели\n",
        "        with torch.no_grad():\n",
        "            ref_chosen_logits = ref_model(chosen_input_ids, attention_mask=chosen_attention_mask).logits\n",
        "            ref_rejected_logits = ref_model(rejected_input_ids, attention_mask=rejected_attention_mask).logits\n",
        "\n",
        "        chosen_logits = model(chosen_input_ids, attention_mask=chosen_attention_mask).logits\n",
        "        rejected_logits = model(rejected_input_ids, attention_mask=rejected_attention_mask).logits\n",
        "\n",
        "        # 3. Получаем лог-пробы\n",
        "        chosen_logps = get_log_prob(chosen_logits, chosen_input_ids, chosen_attention_mask)\n",
        "        rejected_logps = get_log_prob(rejected_logits, rejected_input_ids, rejected_attention_mask)\n",
        "\n",
        "        ref_chosen_logps = get_log_prob(ref_chosen_logits, chosen_input_ids, chosen_attention_mask)\n",
        "        ref_rejected_logps = get_log_prob(ref_rejected_logits, rejected_input_ids, rejected_attention_mask)\n",
        "\n",
        "        # 4. Вычисляем лосс\n",
        "        loss, reward_accuracies, reward_margins = dpo_loss(\n",
        "            chosen_logps, rejected_logps, ref_chosen_logps, ref_rejected_logps, beta=BETA\n",
        "        )\n",
        "\n",
        "        # 5. Обновляем параметры модели\n",
        "        optimizer.zero_grad()\n",
        "        loss.backward()\n",
        "        optimizer.step()\n",
        "\n",
        "\n",
        "        losses.append(loss.item())\n",
        "        accs.append(reward_accuracies.item())\n",
        "        margins.append(reward_margins.item())\n",
        "        pbar.set_postfix({\"Reward margins\": np.mean(margins), \"Reward acc\": np.mean(accs)})\n",
        "\n",
        "        if ENABLE_WANDB:\n",
        "            wandb.log(\n",
        "                {\n",
        "                    \"loss\": loss.item(),\n",
        "                    \"train-reward-margins\": reward_margins.item(),\n",
        "                    \"train-reward-accuracy\": reward_accuracies.item(),\n",
        "                    \"epoch\": epoch,\n",
        "                }\n",
        "            )\n",
        "\n",
        "    pbar.close()"
      ]
    },
    {
      "cell_type": "markdown",
      "id": "ef3e6ab0-9437-473e-abcd-0dd33c974570",
      "metadata": {
        "id": "ef3e6ab0-9437-473e-abcd-0dd33c974570"
      },
      "source": [
        "Во время обучения reward margins и accuracy должны были расти. Давайте проверим что изменилось после обучения:"
      ]
    },
    {
      "cell_type": "code",
      "execution_count": null,
      "id": "8b739545-0c57-4ede-a874-788236b38420",
      "metadata": {
        "editable": true,
        "id": "8b739545-0c57-4ede-a874-788236b38420",
        "tags": []
      },
      "outputs": [],
      "source": [
        "messages = [{\"role\": \"user\", \"content\": \"What's your morning routine like?\"}]\n",
        "text = tokenizer.apply_chat_template(messages, tokenize=False, add_generation_prompt=True)\n",
        "model_inputs = tokenizer([text], return_tensors=\"pt\").to(DEVICE)\n",
        "\n",
        "generated_ids = model.generate(model_inputs.input_ids, max_new_tokens=256, do_sample=True)\n",
        "response = tokenizer.batch_decode(generated_ids, skip_special_tokens=True)[0]\n",
        "\n",
        "init_generated_ids = ref_model.generate(model_inputs.input_ids, max_new_tokens=256, do_sample=True)\n",
        "init_response = tokenizer.batch_decode(init_generated_ids, skip_special_tokens=True)[0]\n",
        "\n",
        "print(\"======== BEFORE TUNING ========\")\n",
        "print(init_response)\n",
        "print()\n",
        "\n",
        "print(\"======== AFTER TUNING ========\")\n",
        "print(response)"
      ]
    },
    {
      "cell_type": "code",
      "execution_count": null,
      "id": "cbb73140",
      "metadata": {
        "id": "cbb73140"
      },
      "outputs": [],
      "source": [
        "# Загружаем все на хаб\n",
        "\n",
        "model.push_to_hub(f\"{REPO_NAME}-dpo\", private=True)\n",
        "tokenizer.push_to_hub(f\"{REPO_NAME}-dpo\", private=True)"
      ]
    },
    {
      "cell_type": "markdown",
      "id": "84318ed4-e3db-4151-88fc-cb00755e6b63",
      "metadata": {
        "id": "84318ed4-e3db-4151-88fc-cb00755e6b63"
      },
      "source": [
        "# Часть 2: PPO и TRL"
      ]
    },
    {
      "cell_type": "markdown",
      "id": "fcce2878-10bb-4dd9-9313-137528a0d1b6",
      "metadata": {
        "id": "fcce2878-10bb-4dd9-9313-137528a0d1b6"
      },
      "source": [
        "Вторая часть будет сильно проще и направлена на то, чтобы познакомиться с самой популярной библотекой для алаймента от huggingface - [TRL](https://huggingface.co/docs/trl/v0.15.0/index). C помощью TRL нужно будет обучить PPO, а для этого вначале обучить Reward Model.\n",
        "\n",
        "**Лирическое отступление**: PPO имеет парадоксальную репутацию. С одной строны в RL он считается чуть ли не единственным применимым (до сих пор) на практике алгоритмом, который заводится с пол-пинка и на любой задаче. Основной боттлнек для него - данные, чем быстрее симулятор, там больше вероятность, что он вашу задачу решит. Примеров много - так решили Dota 2 или Minecraft. С другой стороны, у алгоритма крайне дурная репутация в плане имплементации с нуля, т.к. есть много важных и маленьких деталей, которые при неправильном исполнении приведут к незаметному, но крайне странному поведению. Дебагать это очень сложно, [чего стоит только этот список](https://iclr-blog-track.github.io/2022/03/25/ppo-implementation-details/) и [такой же для уже RLHF](https://huggingface.co/blog/the_n_implementation_details_of_rlhf_with_ppo), причем часто трюки не пересекаются между доменами. Более того, как раз из-за этого если вы загуглите имплементации PPO с нуля, с большой вероятностью большая часть будет с ошибками.\n",
        "\n",
        "Поэтому кодить PPO без тесного знакомства и опыта в RL крайне не рекомендуется. Для RLHF лучше использовать TRL или аналоги, для RL лучше использовать [Sample-Factory](https://github.com/alex-petrenko/sample-factory)."
      ]
    },
    {
      "cell_type": "markdown",
      "id": "d1616be4-4106-49a6-8c7f-155081d7263d",
      "metadata": {
        "id": "d1616be4-4106-49a6-8c7f-155081d7263d"
      },
      "source": [
        "## Обучение Reward Model [2 балл]"
      ]
    },
    {
      "cell_type": "markdown",
      "id": "323184d8-e45a-42a7-aa7a-a59d9ecc50ae",
      "metadata": {
        "id": "323184d8-e45a-42a7-aa7a-a59d9ecc50ae"
      },
      "source": [
        "В отличие от DPO, который выводит апдейт явно, убирая необходимость в награде, для PPO награда нужна, а значит кто-то должен ее выдавать. В общем случае это может быть какая-то простая функция, например равенство с правильным ответом. Для PPO, TRL поддерживает только награды от других моделек (но это поправят в будущем).\n",
        "\n",
        "Возьмем тот же датасет и попробуем обучить сами. Для обучения нам понадобится preference dataset with implicit prompt ([см. примеры в документации](https://huggingface.co/docs/trl/main/dataset_formats)). То есть должны быть только две колонки: chosen, rejected, каждая содержаящая в себе промпт. По аналогии, это все надо привести в темплейт чата.\n",
        "\n",
        "Пример:\n",
        "```python\n",
        "## Implicit prompt\n",
        "preference_example = {\n",
        "    \"chosen\": [\n",
        "        {\"role\": \"user\", \"content\": \"What color is the sky?\"},\n",
        "        {\"role\": \"assistant\", \"content\": \"It is blue.\"}\n",
        "    ],\n",
        "    \"rejected\": [\n",
        "        {\"role\": \"user\", \"content\": \"What color is the sky?\"},\n",
        "        {\"role\": \"assistant\", \"content\": \"It is green.\"}\n",
        "    ]\n",
        "}\n",
        "```\n",
        "\n",
        "Подробнее про лосс который оптимизируется [тут](https://rlhfbook.com/c/07-reward-models.html). TRL все сделает за вас."
      ]
    },
    {
      "cell_type": "code",
      "execution_count": null,
      "id": "e1337a76-ab6e-47f6-8d14-3430234b9858",
      "metadata": {
        "id": "e1337a76-ab6e-47f6-8d14-3430234b9858"
      },
      "outputs": [],
      "source": [
        "def to_implicit_prompt_preferences(example: dict[str, str]) -> dict[str, list[dict[str, str]]]:\n",
        "    \"\"\"\n",
        "    Converts an example into implicit prompt preferences format.\n",
        "\n",
        "    Args:\n",
        "        example (dict[str, str]): A dictionary with the following keys:\n",
        "            - \"prompt\": The user's input prompt.\n",
        "            - \"chosen\": The assistant's chosen response.\n",
        "            - \"rejected\": The assistant's rejected response.\n",
        "\n",
        "    Returns:\n",
        "        dict[str, list[dict[str, str]]]: A dictionary containing:\n",
        "            - \"chosen\": A list of messages forming the conversation for the chosen response.\n",
        "            - \"rejected\": A list of messages forming the conversation for the rejected response.\n",
        "    \"\"\"\n",
        "    # ========== TODO ==========\n",
        "    #      Ваш код здесь      =\n",
        "    # ==========================\n",
        "    todo()"
      ]
    },
    {
      "cell_type": "code",
      "execution_count": null,
      "id": "4f7c44a5-82bf-4446-940a-e53bbd50d65d",
      "metadata": {
        "id": "4f7c44a5-82bf-4446-940a-e53bbd50d65d"
      },
      "outputs": [],
      "source": [
        "dataset = load_dataset(DATASET_ID, split=\"train\")\n",
        "dataset = dataset.map(to_implicit_prompt_preferences, remove_columns=[\"prompt\"])\n",
        "dataset = dataset.train_test_split(train_size=0.9)"
      ]
    },
    {
      "cell_type": "markdown",
      "id": "495a42f6-2acc-4382-84ad-444d689892a2",
      "metadata": {
        "id": "495a42f6-2acc-4382-84ad-444d689892a2"
      },
      "source": [
        "Использовать будем ту же модель, обучать только линейный слой поверх. Для модели используйте `AutoModelForSequenceClassification`. Обучите ревард модель с помощь `RewardConfig` и `RewardTrainer`. Одной эпохи должно быть достаточно (даже меньше). Для удобства подгрузите получившуюся модель на хаб."
      ]
    },
    {
      "cell_type": "code",
      "execution_count": null,
      "id": "4d5562eb-d49c-41c7-b9b6-8640da8c39dc",
      "metadata": {
        "id": "4d5562eb-d49c-41c7-b9b6-8640da8c39dc",
        "scrolled": true
      },
      "outputs": [],
      "source": [
        "tokenizer = AutoTokenizer.from_pretrained(MODEL_ID)\n",
        "# Важно, чтобы тренер правильно отработал для этой модели.\n",
        "tokenizer.pad_token = tokenizer.eos_token\n",
        "\n",
        "# ========== TODO ==========\n",
        "#      Ваш код здесь      =\n",
        "# ==========================\n",
        "reward_model = todo()\n",
        "reward_model.train()\n",
        "reward_model.config.pad_token_id = tokenizer.pad_token_id\n",
        "\n",
        "reward_config = RewardConfig(\n",
        "    num_train_epochs=1,\n",
        "    per_device_train_batch_size=16,\n",
        "    max_length=1024,\n",
        "    disable_dropout=True,\n",
        "    learning_rate=3e-4,\n",
        "    seed=42,\n",
        "    logging_steps=25,\n",
        "    report_to=\"wandb\" if ENABLE_WANDB else \"none\",\n",
        ")\n",
        "reward_trainer = RewardTrainer(\n",
        "    model=reward_model,\n",
        "    processing_class=tokenizer,\n",
        "    args=reward_config,\n",
        "    train_dataset=dataset[\"train\"],\n",
        "    eval_dataset=dataset[\"test\"],\n",
        ")\n",
        "\n",
        "reward_trainer.train()"
      ]
    },
    {
      "cell_type": "markdown",
      "id": "9af43201-f883-4399-9673-bca566decbc8",
      "metadata": {
        "id": "9af43201-f883-4399-9673-bca566decbc8"
      },
      "source": [
        "Награда для chosen должна быть выше чем для rejected."
      ]
    },
    {
      "cell_type": "code",
      "execution_count": null,
      "id": "06962fb8-1cfb-4c0f-bf35-dda4fb2b4037",
      "metadata": {
        "id": "06962fb8-1cfb-4c0f-bf35-dda4fb2b4037"
      },
      "outputs": [],
      "source": [
        "inputs_chosen = tokenizer.apply_chat_template(dataset[\"test\"][0][\"chosen\"], tokenize=False)\n",
        "inputs_chosen = tokenizer(inputs_chosen, return_tensors=\"pt\").to(DEVICE)\n",
        "\n",
        "inputs_rejected = tokenizer.apply_chat_template(dataset[\"test\"][0][\"rejected\"], tokenize=False)\n",
        "inputs_rejected = tokenizer(inputs_rejected, return_tensors=\"pt\").to(DEVICE)\n",
        "\n",
        "score_chosen = reward_model(**inputs_chosen).logits[0].cpu().detach()\n",
        "score_rejected = reward_model(**inputs_rejected).logits[0].cpu().detach()"
      ]
    },
    {
      "cell_type": "code",
      "execution_count": null,
      "id": "9e43f430-3a8c-4a07-bc6e-ab934963921d",
      "metadata": {
        "id": "9e43f430-3a8c-4a07-bc6e-ab934963921d"
      },
      "outputs": [],
      "source": [
        "score_chosen, score_rejected"
      ]
    },
    {
      "cell_type": "code",
      "execution_count": null,
      "id": "dec6bca3",
      "metadata": {
        "id": "dec6bca3"
      },
      "outputs": [],
      "source": [
        "# Загрузим reward модель на хаб\n",
        "\n",
        "reward_trainer.push_to_hub(f\"{REPO_NAME}-reward-model\", dataset_name=DATASET_ID, private=True)"
      ]
    },
    {
      "cell_type": "markdown",
      "id": "c4c35fb9-2aac-408b-aff9-da6251dc7c0f",
      "metadata": {
        "id": "c4c35fb9-2aac-408b-aff9-da6251dc7c0f"
      },
      "source": [
        "## Обучение PPO [4 балла]"
      ]
    },
    {
      "cell_type": "markdown",
      "id": "9b2e2a40-589b-42bf-bf15-bb10bb0e84cd",
      "metadata": {
        "id": "9b2e2a40-589b-42bf-bf15-bb10bb0e84cd"
      },
      "source": [
        "**WARN**: TRL недавно смержили большой рефактор PPO, забыв обновить всю документацию и примеры 🥴🥴🥴. Для правильных примеров смотрите в код, а не в докментацию. Если вам интересно знать виновных в лицо:\n",
        "\n",
        "<a href=\"https://ibb.co/zTFL4GTt\"><img src=\"https://i.ibb.co/1tMpm8t4/Screenshot-2025-02-13-at-17-40-48.png\" alt=\"\" border=\"0\" /></a>\n",
        "\n",
        "Для PPO нам понадобится тот же датасет, но уже в формате только prompt. Приведите prompt в чат темплейт и токенизируйте (`tokenizer.apply_chat_template`). Все остальные колонки можно удалить.\n",
        "\n",
        "В качестве `policy`, `ref_policy` подгрузите SmolLM2-135M-Instruct, в качестве `reward_model`, `value_model` свою обученную ревард модель. Для обучения используйте `PPOConfig` и `PPOTrainer`."
      ]
    },
    {
      "cell_type": "code",
      "execution_count": null,
      "id": "de68e7e9-c107-46e8-b4f4-f0118af36036",
      "metadata": {
        "id": "de68e7e9-c107-46e8-b4f4-f0118af36036",
        "scrolled": true
      },
      "outputs": [],
      "source": [
        "tokenizer = AutoTokenizer.from_pretrained(MODEL_ID, padding_side=\"left\")\n",
        "tokenizer.add_special_tokens({\"pad_token\": \"[PAD]\"})\n",
        "\n",
        "# ========== TODO ==========\n",
        "#      Ваш код здесь       =\n",
        "# ==========================\n",
        "value_model = todo()\n",
        "reward_model = todo()\n",
        "policy = todo()\n",
        "ref_policy = todo()\n",
        "\n",
        "\n",
        "def tokenize(example, tokenizer):\n",
        "    input_ids = todo()\n",
        "    return {\"input_ids\": input_ids}\n",
        "\n",
        "\n",
        "dataset = load_dataset(DATASET_ID, split=\"train\")\n",
        "dataset = dataset.remove_columns([\"chosen\", \"rejected\"])\n",
        "dataset = dataset.map(tokenize, fn_kwargs={\"tokenizer\": tokenizer}, remove_columns=dataset.column_names)\n",
        "dataset = dataset.train_test_split()\n",
        "\n",
        "training_args = todo()\n",
        "trainer = todo()\n",
        "trainer.train()"
      ]
    },
    {
      "cell_type": "markdown",
      "id": "abeaee5e-8429-48bf-a35b-3addfdb10efb",
      "metadata": {
        "id": "abeaee5e-8429-48bf-a35b-3addfdb10efb"
      },
      "source": [
        "Посмотрим на изменение в ответах. Вполне вероятно, что вы не увидите такого сильного изменения как после DPO. PPO требует гораздо больше ресурсов, правильных гиперпараметров и в целом не так стабилен."
      ]
    },
    {
      "cell_type": "code",
      "execution_count": null,
      "id": "5f399f65-81f2-4867-a776-09be56d4f7e1",
      "metadata": {
        "id": "5f399f65-81f2-4867-a776-09be56d4f7e1"
      },
      "outputs": [],
      "source": [
        "messages = [{\"role\": \"user\", \"content\": \"What's your morning routine like?\"}]\n",
        "text = tokenizer.apply_chat_template(messages, tokenize=False, add_generation_prompt=True)\n",
        "model_inputs = tokenizer([text], return_tensors=\"pt\").to(DEVICE)\n",
        "\n",
        "generated_ids = policy.generate(model_inputs.input_ids, max_new_tokens=256, do_sample=False)\n",
        "response = tokenizer.batch_decode(generated_ids, skip_special_tokens=True)[0]\n",
        "\n",
        "init_generated_ids = ref_policy.generate(model_inputs.input_ids, max_new_tokens=256, do_sample=False)\n",
        "init_response = tokenizer.batch_decode(init_generated_ids, skip_special_tokens=True)[0]"
      ]
    },
    {
      "cell_type": "code",
      "execution_count": null,
      "id": "2c0e3a60-02b6-4e2c-828c-7837472f60c4",
      "metadata": {
        "id": "2c0e3a60-02b6-4e2c-828c-7837472f60c4"
      },
      "outputs": [],
      "source": [
        "print(\"======== BEFORE TUNING ========\")\n",
        "print(init_response)\n",
        "print()\n",
        "\n",
        "print(\"======== AFTER TUNING ========\")\n",
        "print(response)"
      ]
    },
    {
      "cell_type": "code",
      "execution_count": null,
      "id": "e5424c50",
      "metadata": {
        "id": "e5424c50"
      },
      "outputs": [],
      "source": [
        "# Загружаем все на хаб\n",
        "\n",
        "model.push_to_hub(f\"{REPO_NAME}-ppo\")\n",
        "tokenizer.push_to_hub(f\"{REPO_NAME}-ppo\")"
      ]
    },
    {
      "cell_type": "markdown",
      "id": "6b4c547e-f9e7-42c4-acb4-513853326e76",
      "metadata": {
        "id": "6b4c547e-f9e7-42c4-acb4-513853326e76"
      },
      "source": [
        "## Анализ модели [2 балл]\n",
        "\n",
        "Проанализируйте финальный модель (от DPO и PPO).\n",
        "Постройте графики логпроб для данных из обучающей выборки и сторонних, которые модель не видела.\n",
        "Подойдет любой не сильно большой датасет с hugging face.\n",
        "\n",
        "Считает ли финальная модель что данные из обучающей выборки более вероятны?"
      ]
    },
    {
      "cell_type": "markdown",
      "id": "d521c8ba-b7f1-4d93-9410-53a753d6211a",
      "metadata": {
        "id": "d521c8ba-b7f1-4d93-9410-53a753d6211a"
      },
      "source": [
        "Попробуйте проанализировать финальную модель (от DPO или PPO). Постройте графики логпроб для данных из обучающей выборки и каких нибудь еще, которые модель не видела. Считает ли финальная модель что данные из обучающей выборки более вероятны?"
      ]
    },
    {
      "cell_type": "code",
      "execution_count": null,
      "id": "1356ece6-c7d5-4431-8558-5be5908d8654",
      "metadata": {
        "id": "1356ece6-c7d5-4431-8558-5be5908d8654"
      },
      "outputs": [],
      "source": [
        "# ========== TODO ==========\n",
        "#      Ваш код здесь      =\n",
        "# ==========================\n",
        "todo()"
      ]
    },
    {
      "cell_type": "markdown",
      "id": "69b84b1b",
      "metadata": {
        "id": "69b84b1b"
      },
      "source": [
        "# Дополнительные баллы\n",
        "\n",
        "Вы также можно заработать дополнительные баллы:\n",
        "- Оформить репозитории на 🤗 (можно сделать коллекцию, так как у нас 3 репозитория): карточка модели с описанием задания, репортом качества и примерами генерации **[2 балла]**"
      ]
    },
    {
      "cell_type": "markdown",
      "id": "37de87c4",
      "metadata": {
        "id": "37de87c4"
      },
      "source": [
        "# Специальный раздел для проверяющего"
      ]
    },
    {
      "cell_type": "code",
      "execution_count": null,
      "id": "33a0c0c7",
      "metadata": {
        "id": "33a0c0c7"
      },
      "outputs": [],
      "source": [
        "device = torch.device(\"cuda\")\n",
        "\n",
        "DPO_REPO_NAME = f\"{REPO_NAME}-dpo\"\n",
        "PPO_REPO_NAME = f\"{REPO_NAME}-ppo\"\n",
        "REWARD_MODEL_REPO_NAME = f\"{REPO_NAME}-reward-model\"\n",
        "\n",
        "tokenizer = AutoTokenizer.from_pretrained(DPO_REPO_NAME)\n",
        "check_model = AutoModelForCausalLM.from_pretrained(DPO_REPO_NAME)\n",
        "check_model = check_model.to(device)\n",
        "check_model = check_model.eval()"
      ]
    },
    {
      "cell_type": "code",
      "execution_count": null,
      "id": "c7605867",
      "metadata": {
        "id": "c7605867"
      },
      "outputs": [],
      "source": [
        "messages = [{\"role\": \"user\", \"content\": \"What's your morning routine like?\"}]\n",
        "\n",
        "text = tokenizer.apply_chat_template(messages, tokenize=False, add_generation_prompt=True)\n",
        "model_inputs = tokenizer([text], return_tensors=\"pt\").to(device)\n",
        "\n",
        "generated_ids = check_model.generate(model_inputs.input_ids, max_new_tokens=256, do_sample=False)\n",
        "response = tokenizer.decode(generated_ids, skip_special_tokens=True)[0]"
      ]
    }
  ],
  "metadata": {
    "colab": {
      "provenance": []
    },
    "kernelspec": {
      "display_name": "Python 3",
      "language": "python",
      "name": "python3"
    },
    "language_info": {
      "codemirror_mode": {
        "name": "ipython",
        "version": 3
      },
      "file_extension": ".py",
      "mimetype": "text/x-python",
      "name": "python",
      "nbconvert_exporter": "python",
      "pygments_lexer": "ipython3",
      "version": "3.11.8"
    }
  },
  "nbformat": 4,
  "nbformat_minor": 5
}
